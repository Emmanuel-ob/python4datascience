{
 "cells": [
  {
   "cell_type": "code",
   "execution_count": 2,
   "id": "e1a45c53",
   "metadata": {},
   "outputs": [
    {
     "name": "stdout",
     "output_type": "stream",
     "text": [
      "Please enter your birth year e.g 1990: 1986\n",
      "\n",
      "Enter the current year e.g 2023: 2023\n",
      "\n",
      "Your age is: 37\n"
     ]
    }
   ],
   "source": [
    "#This program calculates the age of person\n",
    "birth_year = int(input(\"Please enter your birth year e.g 1990: \"))\n",
    "current_year = int(input(\"\\nEnter the current year e.g 2023: \"))\n",
    "age = current_year - birth_year\n",
    "print(\"\\nYour age is: \" + str(age))"
   ]
  },
  {
   "cell_type": "code",
   "execution_count": null,
   "id": "b0cdfc4d",
   "metadata": {},
   "outputs": [],
   "source": [
    "#write a program that accepts parameter and calculate the area of of triangle\n"
   ]
  },
  {
   "cell_type": "code",
   "execution_count": 2,
   "id": "32a1a3c7",
   "metadata": {},
   "outputs": [
    {
     "name": "stdout",
     "output_type": "stream",
     "text": [
      "[1997, 2000]\n"
     ]
    }
   ],
   "source": [
    "list1 = ['physics', 'chemistry', 1997, 2000] \n",
    "list1.sort()\n",
    "print(list1)"
   ]
  },
  {
   "cell_type": "code",
   "execution_count": null,
   "id": "f07f17aa",
   "metadata": {},
   "outputs": [],
   "source": [
    "list2 = ['physics', 'chemistry', 1997, 2000, [2,3,4], {'a':70, 'b':60}]"
   ]
  }
 ],
 "metadata": {
  "kernelspec": {
   "display_name": "Python 3",
   "language": "python",
   "name": "python3"
  },
  "language_info": {
   "codemirror_mode": {
    "name": "ipython",
    "version": 3
   },
   "file_extension": ".py",
   "mimetype": "text/x-python",
   "name": "python",
   "nbconvert_exporter": "python",
   "pygments_lexer": "ipython3",
   "version": "3.9.5"
  }
 },
 "nbformat": 4,
 "nbformat_minor": 5
}
