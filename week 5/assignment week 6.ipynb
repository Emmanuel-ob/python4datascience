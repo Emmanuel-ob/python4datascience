{
 "cells": [
  {
   "cell_type": "code",
   "execution_count": 1,
   "id": "031775ae",
   "metadata": {},
   "outputs": [],
   "source": [
    "def sum_of_squares(water_bottle=0, hydroflask=0):\n",
    "    return water_bottle**2 + hydroflask**2"
   ]
  },
  {
   "cell_type": "code",
   "execution_count": 2,
   "id": "8c467422",
   "metadata": {},
   "outputs": [
    {
     "name": "stdout",
     "output_type": "stream",
     "text": [
      "0\n",
      "9\n",
      "16\n",
      "29\n"
     ]
    }
   ],
   "source": [
    "print(sum_of_squares())                        \n",
    "print(sum_of_squares(3))                      \n",
    "print(sum_of_squares(hydroflask=4))           \n",
    "print(sum_of_squares(2, 5))                    "
   ]
  },
  {
   "cell_type": "code",
   "execution_count": 2,
   "id": "fbe3b694",
   "metadata": {},
   "outputs": [
    {
     "name": "stdout",
     "output_type": "stream",
     "text": [
      "Name = John Dow\n",
      "Country = Nigeria\n",
      "course = Computer Sci\n",
      "level = 400\n"
     ]
    }
   ],
   "source": [
    "#function with keyword arguments\n",
    "#{'Name': 'Sam', 'Age':20, 'level':200}\n",
    "def studentInfo(**info):\n",
    "    for key, value in info.items():\n",
    "        print(key, '=', value)\n",
    "    return\n",
    "\n",
    "\n",
    "studentInfo(Name='John Dow', Country= 'Nigeria', course= 'Computer Sci', level= 400)    "
   ]
  },
  {
   "cell_type": "code",
   "execution_count": 1,
   "id": "9d3dd62a",
   "metadata": {},
   "outputs": [
    {
     "name": "stdout",
     "output_type": "stream",
     "text": [
      "dict_items([('Name', 'Sam'), ('Age', 20), ('level', 200)])\n"
     ]
    }
   ],
   "source": [
    "my_dict = {'Name': 'Sam', 'Age':20, 'level':200}\n",
    "print(my_dict.items())"
   ]
  },
  {
   "cell_type": "code",
   "execution_count": null,
   "id": "47a39752",
   "metadata": {},
   "outputs": [],
   "source": []
  }
 ],
 "metadata": {
  "kernelspec": {
   "display_name": "Python 3",
   "language": "python",
   "name": "python3"
  },
  "language_info": {
   "codemirror_mode": {
    "name": "ipython",
    "version": 3
   },
   "file_extension": ".py",
   "mimetype": "text/x-python",
   "name": "python",
   "nbconvert_exporter": "python",
   "pygments_lexer": "ipython3",
   "version": "3.9.5"
  }
 },
 "nbformat": 4,
 "nbformat_minor": 5
}
