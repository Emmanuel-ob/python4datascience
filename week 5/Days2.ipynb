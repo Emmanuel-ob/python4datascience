{
 "cells": [
  {
   "cell_type": "code",
   "execution_count": 3,
   "id": "d4aa2e18",
   "metadata": {},
   "outputs": [
    {
     "name": "stdout",
     "output_type": "stream",
     "text": [
      "Here is Average score for  Sam\n",
      "66.27272727272727\n",
      "Joseph\n"
     ]
    }
   ],
   "source": [
    "name = 'Joseph'\n",
    "\n",
    "def avgScore(student_name, *scores):\n",
    "    count = len(scores)\n",
    "    total = 0\n",
    "    name = student_name\n",
    "    for score in scores:\n",
    "        total = total + score\n",
    "    print('Here is Average score for ', name)\n",
    "    average = total/count\n",
    "    print(average)\n",
    "    return average\n",
    "\n",
    "avgScore('Sam',50,80,90,37,90,70,30,56,70,60, 96)\n",
    "print(name)"
   ]
  },
  {
   "cell_type": "code",
   "execution_count": 13,
   "id": "a88bac82",
   "metadata": {},
   "outputs": [
    {
     "name": "stdout",
     "output_type": "stream",
     "text": [
      "120\n"
     ]
    }
   ],
   "source": [
    "#iterative version of factorial solution\n",
    "def factorial_iterative(n):\n",
    "    if n <=1:\n",
    "        return 1\n",
    "    total = 1\n",
    "    while n >= 1:\n",
    "       total = total * n\n",
    "       n = n-1\n",
    "    return total\n",
    "\n",
    "factorial = factorial_iterative(5)\n",
    "print(factorial)\n",
    "        "
   ]
  },
  {
   "cell_type": "code",
   "execution_count": 14,
   "id": "6787eccc",
   "metadata": {},
   "outputs": [
    {
     "name": "stdout",
     "output_type": "stream",
     "text": [
      "120\n"
     ]
    }
   ],
   "source": [
    "def factorial_recursion(n):\n",
    "    if n <= 1:\n",
    "        return 1\n",
    "    total = n*factorial_recursion(n-1)\n",
    "    return total\n",
    "\n",
    "     \n",
    "#5 * fa(4) * fa(3) * fa(2) * fa(1)\n",
    "#5*24      4*6=24    3*2=6       2*1=2       1\n",
    "120\n",
    "factorial = factorial_recursion(5)\n",
    "print(factorial) "
   ]
  },
  {
   "cell_type": "code",
   "execution_count": 19,
   "id": "a771ed7a",
   "metadata": {},
   "outputs": [
    {
     "name": "stdout",
     "output_type": "stream",
     "text": [
      "12\n",
      "30\n",
      "30\n",
      "40\n",
      "[2, 4, 5, 7]\n",
      "12\n",
      "4\n",
      "5\n",
      "30\n",
      "34\n",
      "2\n",
      "5\n",
      "4\n",
      "7\n"
     ]
    }
   ],
   "source": [
    "my_list = [12,30, [30,40, [2,4,5,7, (2,4,5,5)]],[12,4,5], 30,34,2, [5,4,7 {1,4,5,6}]]\n",
    "for item in my_list:\n",
    "    if type(item) == list:\n",
    "        for i in item:\n",
    "            print(i)\n",
    "    else:\n",
    "        print(item)"
   ]
  },
  {
   "cell_type": "code",
   "execution_count": 22,
   "id": "e60a0dc8",
   "metadata": {},
   "outputs": [
    {
     "name": "stdout",
     "output_type": "stream",
     "text": [
      "12\n",
      "30\n",
      "30\n",
      "40\n",
      "2\n",
      "4\n",
      "5\n",
      "7\n",
      "12\n",
      "4\n",
      "5\n",
      "30\n",
      "34\n",
      "2\n",
      "5\n",
      "4\n",
      "7\n"
     ]
    }
   ],
   "source": [
    "def extract_recursive(list_input):\n",
    "    for item in list_input:\n",
    "        if type(item) == list:\n",
    "           extract_recursive(item)\n",
    "        else:\n",
    "            print(item)\n",
    "    return\n",
    "\n",
    "extract_recursive(my_list)"
   ]
  },
  {
   "cell_type": "code",
   "execution_count": 25,
   "id": "93cf26ed",
   "metadata": {},
   "outputs": [
    {
     "name": "stdout",
     "output_type": "stream",
     "text": [
      "[4, 16, 25, 64]\n",
      "[20.0, 40.0, 50.0, 80.0]\n"
     ]
    }
   ],
   "source": [
    "new_list = [2,4,5,8]\n",
    "\n",
    "def squareNum(num):\n",
    "    return num **2\n",
    "\n",
    "def calculate_percentage(num):\n",
    "    return num/10 * 100\n",
    "\n",
    "new_list_modified = map(squareNum, new_list)\n",
    "print(list(new_list_modified))\n",
    "\n",
    "new_list_percent = map(calculate_percentage, new_list)\n",
    "print(list(new_list_percent))"
   ]
  },
  {
   "cell_type": "code",
   "execution_count": 41,
   "id": "4eefe222",
   "metadata": {},
   "outputs": [
    {
     "name": "stdout",
     "output_type": "stream",
     "text": [
      "Enter your scores separated by comma , :40,50,60\n",
      "['40', '50', '60']\n",
      "50.0\n"
     ]
    }
   ],
   "source": [
    "def calcute_average():\n",
    "    scores = input('Enter your scores separated by comma , :')\n",
    "    scores_list = scores.split(',')\n",
    "    print(scores_list)\n",
    "    scores = map(float, scores_list)\n",
    "    n=0\n",
    "    total = 0\n",
    "    for item in scores:\n",
    "       total += item\n",
    "       n +=1\n",
    "    \n",
    "    average = total/n\n",
    "    return average\n",
    "   \n",
    "average = calcute_average()\n",
    "print(average)"
   ]
  },
  {
   "cell_type": "code",
   "execution_count": 42,
   "id": "23cefa47",
   "metadata": {},
   "outputs": [
    {
     "name": "stdout",
     "output_type": "stream",
     "text": [
      "[2, 4, 6, 8, 10]\n"
     ]
    }
   ],
   "source": [
    "#using filter function\n",
    "input_list = [1,2,3,4,5,6,7,8,9,10]\n",
    "\n",
    "def is_even(num):\n",
    "    return num%2 == 0\n",
    "\n",
    "filtered_list = filter(is_even, input_list)\n",
    "print(list(filtered_list))"
   ]
  },
  {
   "cell_type": "code",
   "execution_count": 44,
   "id": "e1b79963",
   "metadata": {},
   "outputs": [
    {
     "name": "stdout",
     "output_type": "stream",
     "text": [
      "[10, 30, 40, 20]\n",
      "[9, 6, 10, 9]\n"
     ]
    }
   ],
   "source": [
    "list_a = [1,3,4,2]\n",
    "list_b = [8,3,6,7]\n",
    "\n",
    "modified_list = map(lambda x:x*10, list_a)\n",
    "print(list(modified_list))\n",
    "\n",
    "added_list = map(lambda x,y: x+y, list_a,list_b)\n",
    "print(list(added_list))"
   ]
  },
  {
   "cell_type": "code",
   "execution_count": null,
   "id": "dc3d3893",
   "metadata": {},
   "outputs": [],
   "source": []
  }
 ],
 "metadata": {
  "kernelspec": {
   "display_name": "Python 3",
   "language": "python",
   "name": "python3"
  },
  "language_info": {
   "codemirror_mode": {
    "name": "ipython",
    "version": 3
   },
   "file_extension": ".py",
   "mimetype": "text/x-python",
   "name": "python",
   "nbconvert_exporter": "python",
   "pygments_lexer": "ipython3",
   "version": "3.9.5"
  }
 },
 "nbformat": 4,
 "nbformat_minor": 5
}
