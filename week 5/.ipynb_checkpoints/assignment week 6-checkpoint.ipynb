{
 "cells": [
  {
   "cell_type": "code",
   "execution_count": 1,
   "id": "031775ae",
   "metadata": {},
   "outputs": [],
   "source": [
    "def sum_of_squares(water_bottle=0, hydroflask=0):\n",
    "    return water_bottle**2 + hydroflask**2"
   ]
  },
  {
   "cell_type": "code",
   "execution_count": 2,
   "id": "8c467422",
   "metadata": {},
   "outputs": [
    {
     "name": "stdout",
     "output_type": "stream",
     "text": [
      "0\n",
      "9\n",
      "16\n",
      "29\n"
     ]
    }
   ],
   "source": [
    "print(sum_of_squares())                        \n",
    "print(sum_of_squares(3))                      \n",
    "print(sum_of_squares(hydroflask=4))           \n",
    "print(sum_of_squares(2, 5))                    "
   ]
  },
  {
   "cell_type": "code",
   "execution_count": null,
   "id": "fbe3b694",
   "metadata": {},
   "outputs": [],
   "source": []
  }
 ],
 "metadata": {
  "kernelspec": {
   "display_name": "Python 3",
   "language": "python",
   "name": "python3"
  },
  "language_info": {
   "codemirror_mode": {
    "name": "ipython",
    "version": 3
   },
   "file_extension": ".py",
   "mimetype": "text/x-python",
   "name": "python",
   "nbconvert_exporter": "python",
   "pygments_lexer": "ipython3",
   "version": "3.9.5"
  }
 },
 "nbformat": 4,
 "nbformat_minor": 5
}
