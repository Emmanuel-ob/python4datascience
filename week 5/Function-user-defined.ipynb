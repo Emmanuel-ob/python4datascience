{
 "cells": [
  {
   "cell_type": "code",
   "execution_count": 30,
   "id": "bf1f46ca",
   "metadata": {},
   "outputs": [
    {
     "name": "stdout",
     "output_type": "stream",
     "text": [
      "30\n"
     ]
    }
   ],
   "source": [
    "def sumNums(num1,num2):\n",
    "    \"This function add num1 and num2\"\n",
    "    total = num1 + num2\n",
    "    return total\n",
    "\n",
    "#my_sum = sum(10,20)\n",
    "#print(my_sum)\n",
    "print(sumNums(10,20))"
   ]
  },
  {
   "cell_type": "code",
   "execution_count": 4,
   "id": "182f980f",
   "metadata": {},
   "outputs": [
    {
     "name": "stdout",
     "output_type": "stream",
     "text": [
      "50\n"
     ]
    }
   ],
   "source": [
    "def addNums(num1,num2):\n",
    "    \"This function add num1 and num2\"\n",
    "    total = num1 + num2\n",
    "    print(total)\n",
    "    return\n",
    "\n",
    "addNums(20,30)"
   ]
  },
  {
   "cell_type": "code",
   "execution_count": 17,
   "id": "13a03bb1",
   "metadata": {},
   "outputs": [
    {
     "name": "stdout",
     "output_type": "stream",
     "text": [
      "[11, 12, 12, 17]\n"
     ]
    }
   ],
   "source": [
    "def sumList(list1, list2):\n",
    "    \"This function sums the corresponding items in list1 and list2\"\n",
    "    lenght = len(list1)\n",
    "    new_list = []\n",
    "    if lenght > len(list2):\n",
    "        return 'The lenght of list1 and list2 does not match'\n",
    "    for i in range(lenght):\n",
    "        new_item = list1[i] + list2[i]\n",
    "        new_list.append(new_item)\n",
    "    return new_list\n",
    "\n",
    "list_a = [1,3,4,6]\n",
    "list_b = [10,9,8,11]\n",
    "#list_c = [11,12,12,17]\n",
    "\n",
    "summed_list = sumList(list_a, list_b)\n",
    "print(summed_list)"
   ]
  },
  {
   "cell_type": "code",
   "execution_count": 12,
   "id": "0b43cdc4",
   "metadata": {},
   "outputs": [
    {
     "name": "stdout",
     "output_type": "stream",
     "text": [
      "[11, 12, 12, 17]\n"
     ]
    }
   ],
   "source": [
    "def sumListComp(list1, list2):\n",
    "    \"This function sums the corresponding items in list1 and list2\"\n",
    "    lenght = len(list1)\n",
    "    new_list = [list1[i] + list2[i] for i in range(lenght)]\n",
    "    return new_list\n",
    "\n",
    "summed_list = sumListComp(list_a,list_b)\n",
    "print(summed_list)"
   ]
  },
  {
   "cell_type": "code",
   "execution_count": 42,
   "id": "441901cd",
   "metadata": {},
   "outputs": [
    {
     "name": "stdout",
     "output_type": "stream",
     "text": [
      "[11, 12, 12, 17]\n"
     ]
    }
   ],
   "source": [
    "def sumListComp(list1, list2):\n",
    "    \"This function sums the corresponding items in list1 and list2\"\n",
    "    lenght = len(list1)\n",
    "    new_list = map(lambda x,y: x+y, list1, list2)\n",
    "    return list(new_list)\n",
    "\n",
    "summed_list = sumListComp(list_a,list_b)\n",
    "print(summed_list)"
   ]
  },
  {
   "cell_type": "code",
   "execution_count": 20,
   "id": "2f9c3432",
   "metadata": {},
   "outputs": [
    {
     "name": "stdout",
     "output_type": "stream",
     "text": [
      "446.40000000000003\n",
      "452.448\n"
     ]
    }
   ],
   "source": [
    "def areaOfCircle(radius,pi=3.142):\n",
    "    return (radius*radius) * pi\n",
    "\n",
    "r = 12\n",
    "pi= 3.1\n",
    "\n",
    "area = areaOfCircle(r,pi)\n",
    "print(area)\n",
    "\n",
    "area1 = areaOfCircle(r)\n",
    "print(area1)"
   ]
  },
  {
   "cell_type": "code",
   "execution_count": 28,
   "id": "5d2bb52c",
   "metadata": {},
   "outputs": [
    {
     "name": "stdout",
     "output_type": "stream",
     "text": [
      "17\n",
      "63\n",
      "42\n"
     ]
    }
   ],
   "source": [
    "def add(a,c=25,b=35):\n",
    "    return a+b+c\n",
    "\n",
    "print(add(3,5,9))\n",
    "print(add(3))\n",
    "print(add(3,4))"
   ]
  },
  {
   "cell_type": "code",
   "execution_count": 36,
   "id": "436c1392",
   "metadata": {},
   "outputs": [
    {
     "name": "stdout",
     "output_type": "stream",
     "text": [
      "Here is Average score for  Sam\n",
      "66.27272727272727\n"
     ]
    },
    {
     "data": {
      "text/plain": [
       "66.27272727272727"
      ]
     },
     "execution_count": 36,
     "metadata": {},
     "output_type": "execute_result"
    }
   ],
   "source": [
    "def avgScore(name, *scores):\n",
    "    count = len(scores)\n",
    "    total = 0\n",
    "    for score in scores:\n",
    "        total = total + score\n",
    "    print('Here is Average score for ', name)\n",
    "    average = total/count\n",
    "    print(average)\n",
    "    return average\n",
    "\n",
    "avgScore('Sam',50,80,90,37,90,70,30,56,70,60, 96)\n",
    "    "
   ]
  },
  {
   "cell_type": "code",
   "execution_count": 34,
   "id": "685425db",
   "metadata": {},
   "outputs": [
    {
     "name": "stdout",
     "output_type": "stream",
     "text": [
      "1300\n",
      "3400\n",
      "2225\n"
     ]
    }
   ],
   "source": [
    "def sumOfSquare(a=20, b=30):\n",
    "    \"This function returns the sum of squares of optional parameters a and b\"\n",
    "    total = a**2 + b**2\n",
    "    return total\n",
    "\n",
    "print(sumOfSquare())\n",
    "print(sumOfSquare(50))\n",
    "print(sumOfSquare(40,25))"
   ]
  },
  {
   "cell_type": "code",
   "execution_count": null,
   "id": "c4e56f9b",
   "metadata": {},
   "outputs": [],
   "source": []
  }
 ],
 "metadata": {
  "kernelspec": {
   "display_name": "Python 3",
   "language": "python",
   "name": "python3"
  },
  "language_info": {
   "codemirror_mode": {
    "name": "ipython",
    "version": 3
   },
   "file_extension": ".py",
   "mimetype": "text/x-python",
   "name": "python",
   "nbconvert_exporter": "python",
   "pygments_lexer": "ipython3",
   "version": "3.9.5"
  }
 },
 "nbformat": 4,
 "nbformat_minor": 5
}
