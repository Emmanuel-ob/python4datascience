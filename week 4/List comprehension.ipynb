{
 "cells": [
  {
   "cell_type": "code",
   "execution_count": 15,
   "id": "e9ab1de8",
   "metadata": {},
   "outputs": [
    {
     "name": "stdout",
     "output_type": "stream",
     "text": [
      "[[1, 11], [2, 12], [3, 13], [4, 14], [5, 15], [6, 16]]\n",
      "----------------------------------------\n",
      "[[1, 11], [2, 12], [3, 13], [4, 14], [5, 15], [6, 16]]\n"
     ]
    }
   ],
   "source": [
    "#combining 2 seperate lists to form a list of sub lists\n",
    "list1 = [1,2,3,4,5,6] \n",
    "list2 = [11,12,13,14,15,16]\n",
    "lenght = len(list1)\n",
    "#new_list = [[1,11], [2,12], [3,13], [4,14]]\n",
    "new_list = []\n",
    "for i in range(lenght):\n",
    "    sub_list = [list1[i], list2[i]]\n",
    "    new_list.append(sub_list)\n",
    "print(new_list)\n",
    "\n",
    "print(20 * '--')\n",
    "\n",
    "#List comprehension version\n",
    "new_list1 = [[list1[i],list2[i]] for i in range(len(list1))]\n",
    "print(new_list1)"
   ]
  },
  {
   "cell_type": "code",
   "execution_count": 25,
   "id": "bfb6499e",
   "metadata": {},
   "outputs": [
    {
     "name": "stdout",
     "output_type": "stream",
     "text": [
      "[11, 24, 39, 56, 75, 96]\n",
      "----------------------------------------\n",
      "[11, 24, 39, 56, 75, 96]\n"
     ]
    }
   ],
   "source": [
    "lists_multiplied = []\n",
    "for i in range(lenght):\n",
    "    multiply = list1[i] * list2[i]\n",
    "    lists_multiplied.append(multiply)\n",
    "print(lists_multiplied)\n",
    "\n",
    "print(20 * '--')\n",
    "\n",
    "#list comprehension version\n",
    "lists_multiplied1 = [list1[i] * list2[i] for i in range(len(list1))]\n",
    "print(lists_multiplied1)"
   ]
  },
  {
   "cell_type": "code",
   "execution_count": null,
   "id": "ba4c285a",
   "metadata": {},
   "outputs": [],
   "source": [
    "#write the program to combine 2 lists to a list of list of correspnding items"
   ]
  },
  {
   "cell_type": "code",
   "execution_count": 20,
   "id": "19f25f58",
   "metadata": {},
   "outputs": [
    {
     "name": "stdout",
     "output_type": "stream",
     "text": [
      "nhoJ\n"
     ]
    }
   ],
   "source": [
    "test_str = 'John'\n",
    "#Reverse a string using loop\n",
    "reversed_str = ''\n",
    "for character in test_str:\n",
    "    reversed_str = character + reversed_str\n",
    "print(reversed_str)"
   ]
  },
  {
   "cell_type": "code",
   "execution_count": 24,
   "id": "597668aa",
   "metadata": {},
   "outputs": [
    {
     "name": "stdout",
     "output_type": "stream",
     "text": [
      "nhoJ\n"
     ]
    }
   ],
   "source": [
    "#Reverse a string using slicing\n",
    "test_str = 'John'\n",
    "reversed_str =test_str[::-1]\n",
    "print(reversed_str)"
   ]
  },
  {
   "cell_type": "code",
   "execution_count": 26,
   "id": "e696e816",
   "metadata": {},
   "outputs": [
    {
     "name": "stdout",
     "output_type": "stream",
     "text": [
      "foo\n"
     ]
    }
   ],
   "source": [
    "if(1,2):\n",
    "    print('foo')"
   ]
  },
  {
   "cell_type": "code",
   "execution_count": null,
   "id": "2755f372",
   "metadata": {},
   "outputs": [],
   "source": []
  }
 ],
 "metadata": {
  "kernelspec": {
   "display_name": "Python 3",
   "language": "python",
   "name": "python3"
  },
  "language_info": {
   "codemirror_mode": {
    "name": "ipython",
    "version": 3
   },
   "file_extension": ".py",
   "mimetype": "text/x-python",
   "name": "python",
   "nbconvert_exporter": "python",
   "pygments_lexer": "ipython3",
   "version": "3.9.5"
  }
 },
 "nbformat": 4,
 "nbformat_minor": 5
}
