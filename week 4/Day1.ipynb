{
 "cells": [
  {
   "cell_type": "code",
   "execution_count": 1,
   "id": "b07ee767",
   "metadata": {},
   "outputs": [
    {
     "name": "stdout",
     "output_type": "stream",
     "text": [
      "['Sandra', 'Joe', 'John', 'Ejike']\n"
     ]
    }
   ],
   "source": [
    "mylist = ['Sandra', 'Joe', 'John']\n",
    "mylist.append('Ejike')\n",
    "print(mylist)"
   ]
  },
  {
   "cell_type": "code",
   "execution_count": 2,
   "id": "7ffe3e3c",
   "metadata": {},
   "outputs": [
    {
     "name": "stdout",
     "output_type": "stream",
     "text": [
      "['Sandra', 'Morayo', 'Joe', 'John', 'Ejike']\n"
     ]
    }
   ],
   "source": [
    "mylist.insert(1,'Morayo')\n",
    "print(mylist)"
   ]
  },
  {
   "cell_type": "code",
   "execution_count": 3,
   "id": "bbe92849",
   "metadata": {},
   "outputs": [
    {
     "name": "stdout",
     "output_type": "stream",
     "text": [
      "['Sandra', 'Morayo', 'John', 'Ejike']\n"
     ]
    }
   ],
   "source": [
    "mylist.remove('Joe')\n",
    "print(mylist)"
   ]
  },
  {
   "cell_type": "code",
   "execution_count": 4,
   "id": "f8c49dd3",
   "metadata": {},
   "outputs": [
    {
     "name": "stdout",
     "output_type": "stream",
     "text": [
      "['Sandra', 'Morayo', 'John', 'Ejike']\n"
     ]
    }
   ],
   "source": [
    "class_a = mylist.copy()\n",
    "print(class_a)"
   ]
  },
  {
   "cell_type": "code",
   "execution_count": 5,
   "id": "828dc5e1",
   "metadata": {},
   "outputs": [
    {
     "name": "stdout",
     "output_type": "stream",
     "text": [
      "['Sandra', 'Morayo', 'John', 'Ejike', 'Toyin', 'Esther', 'Sam', 'Anu']\n"
     ]
    }
   ],
   "source": [
    "class_b = ['Toyin', 'Esther', 'Sam', 'Anu']\n",
    "class_a.extend(class_b)\n",
    "print(class_a)"
   ]
  },
  {
   "cell_type": "code",
   "execution_count": 6,
   "id": "1fcfe510",
   "metadata": {},
   "outputs": [
    {
     "name": "stdout",
     "output_type": "stream",
     "text": [
      "['Anu', 'Ejike', 'Esther', 'John', 'Morayo', 'Sam', 'Sandra', 'Toyin']\n"
     ]
    }
   ],
   "source": [
    "class_a.sort()\n",
    "print(class_a)"
   ]
  },
  {
   "cell_type": "code",
   "execution_count": 7,
   "id": "2c3f3431",
   "metadata": {},
   "outputs": [
    {
     "name": "stdout",
     "output_type": "stream",
     "text": [
      "['Toyin', 'Sandra', 'Sam', 'Morayo', 'John', 'Esther', 'Ejike', 'Anu']\n"
     ]
    }
   ],
   "source": [
    "class_a.reverse()\n",
    "print(class_a)"
   ]
  },
  {
   "cell_type": "code",
   "execution_count": 8,
   "id": "0d597100",
   "metadata": {},
   "outputs": [
    {
     "name": "stdout",
     "output_type": "stream",
     "text": [
      "['Toyin', 'Sandra', 'Sam', 'Morayo', 'John', 'Esther', 'Ejike', 'Anu', 'John']\n"
     ]
    }
   ],
   "source": [
    "class_a.append('John')\n",
    "print(class_a)"
   ]
  },
  {
   "cell_type": "code",
   "execution_count": 9,
   "id": "91abff10",
   "metadata": {},
   "outputs": [
    {
     "name": "stdout",
     "output_type": "stream",
     "text": [
      "2\n"
     ]
    }
   ],
   "source": [
    "name_count = class_a.count('John')\n",
    "print(name_count)"
   ]
  },
  {
   "cell_type": "code",
   "execution_count": 12,
   "id": "978d749f",
   "metadata": {},
   "outputs": [
    {
     "name": "stdout",
     "output_type": "stream",
     "text": [
      "Toyin  count = 1\n",
      "Sandra  count = 1\n",
      "Sam  count = 1\n",
      "Morayo  count = 1\n",
      "John  count = 2\n",
      "Esther  count = 1\n",
      "Ejike  count = 1\n",
      "Anu  count = 1\n",
      "John  count = 2\n"
     ]
    }
   ],
   "source": [
    "for name in class_a:\n",
    "    print(name, ' count =', class_a.count(name))\n",
    "    "
   ]
  },
  {
   "cell_type": "code",
   "execution_count": 18,
   "id": "9607a27e",
   "metadata": {},
   "outputs": [
    {
     "name": "stdout",
     "output_type": "stream",
     "text": [
      "['Toyin', 'Sandra', 'Sam', 'Morayo', 'John', 'John', 'John', 'Esther', 'Ejike', 'Anu', 'John']\n",
      "Toyin  count = 1\n",
      "Sandra  count = 1\n",
      "Sam  count = 1\n",
      "Morayo  count = 1\n",
      "John  count = 4\n",
      "Esther  count = 1\n",
      "Ejike  count = 1\n",
      "Anu  count = 1\n"
     ]
    }
   ],
   "source": [
    "check_list = []\n",
    "class_a.insert(4, 'John')\n",
    "print(class_a)\n",
    "for name in class_a:\n",
    "    if name not in check_list:\n",
    "        check_list.append(name)\n",
    "        print(name, ' count =', class_a.count(name))\n",
    "    "
   ]
  },
  {
   "cell_type": "code",
   "execution_count": 13,
   "id": "72c315c3",
   "metadata": {},
   "outputs": [
    {
     "name": "stdout",
     "output_type": "stream",
     "text": [
      "['Toyin', 'Sandra', 'Sam', 'Morayo', 'Esther', 'Ejike', 'Anu', 'John']\n"
     ]
    }
   ],
   "source": [
    "for name in class_a:\n",
    "    if class_a.count(name) > 1:\n",
    "        class_a.remove(name)\n",
    "print(class_a)"
   ]
  },
  {
   "cell_type": "code",
   "execution_count": null,
   "id": "7597594e",
   "metadata": {},
   "outputs": [],
   "source": []
  }
 ],
 "metadata": {
  "kernelspec": {
   "display_name": "Python 3",
   "language": "python",
   "name": "python3"
  },
  "language_info": {
   "codemirror_mode": {
    "name": "ipython",
    "version": 3
   },
   "file_extension": ".py",
   "mimetype": "text/x-python",
   "name": "python",
   "nbconvert_exporter": "python",
   "pygments_lexer": "ipython3",
   "version": "3.9.5"
  }
 },
 "nbformat": 4,
 "nbformat_minor": 5
}
