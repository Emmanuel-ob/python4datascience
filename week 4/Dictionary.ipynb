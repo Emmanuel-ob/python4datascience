{
 "cells": [
  {
   "cell_type": "code",
   "execution_count": 1,
   "id": "d19f40d9",
   "metadata": {},
   "outputs": [
    {
     "name": "stdout",
     "output_type": "stream",
     "text": [
      "23\n"
     ]
    }
   ],
   "source": [
    "my_dictionay = {'Name': 'Jane', 'Age': 23, 'Sex': 'Female'}\n",
    "print(my_dictionay['Age'])"
   ]
  },
  {
   "cell_type": "code",
   "execution_count": 3,
   "id": "823ee527",
   "metadata": {},
   "outputs": [
    {
     "name": "stdout",
     "output_type": "stream",
     "text": [
      "{'Name': 'Jane', 'Age': 21, 'Sex': 'Female'}\n"
     ]
    }
   ],
   "source": [
    "my_dictionay['Age'] = 21\n",
    "print(my_dictionay)"
   ]
  },
  {
   "cell_type": "code",
   "execution_count": 4,
   "id": "7ffab17b",
   "metadata": {},
   "outputs": [
    {
     "name": "stdout",
     "output_type": "stream",
     "text": [
      "{'Name': 'Jane', 'Age': 21, 'Sex': 'Female', 'Subjects': ['Geography', 'Maths', 'English', 'Biology']}\n"
     ]
    }
   ],
   "source": [
    "my_dictionay['Subjects'] = ['Geography','Maths','English','Biology']\n",
    "print(my_dictionay)"
   ]
  },
  {
   "cell_type": "code",
   "execution_count": 5,
   "id": "fac39296",
   "metadata": {},
   "outputs": [
    {
     "name": "stdout",
     "output_type": "stream",
     "text": [
      "{'Name': 'Jane', 'Age': 21, 'Subjects': ['Geography', 'Maths', 'English', 'Biology']}\n"
     ]
    }
   ],
   "source": [
    "del my_dictionay['Sex']\n",
    "print(my_dictionay)"
   ]
  },
  {
   "cell_type": "code",
   "execution_count": 6,
   "id": "50819c31",
   "metadata": {},
   "outputs": [
    {
     "ename": "NameError",
     "evalue": "name 'my_dictionay' is not defined",
     "output_type": "error",
     "traceback": [
      "\u001b[1;31m---------------------------------------------------------------------------\u001b[0m",
      "\u001b[1;31mNameError\u001b[0m                                 Traceback (most recent call last)",
      "\u001b[1;32m<ipython-input-6-55ee528342d1>\u001b[0m in \u001b[0;36m<module>\u001b[1;34m\u001b[0m\n\u001b[0;32m      1\u001b[0m \u001b[1;32mdel\u001b[0m \u001b[0mmy_dictionay\u001b[0m\u001b[1;33m\u001b[0m\u001b[1;33m\u001b[0m\u001b[0m\n\u001b[1;32m----> 2\u001b[1;33m \u001b[0mprint\u001b[0m\u001b[1;33m(\u001b[0m\u001b[0mmy_dictionay\u001b[0m\u001b[1;33m)\u001b[0m\u001b[1;33m\u001b[0m\u001b[1;33m\u001b[0m\u001b[0m\n\u001b[0m",
      "\u001b[1;31mNameError\u001b[0m: name 'my_dictionay' is not defined"
     ]
    }
   ],
   "source": [
    "del my_dictionay\n",
    "print(my_dictionay)"
   ]
  },
  {
   "cell_type": "code",
   "execution_count": 7,
   "id": "57f08f47",
   "metadata": {},
   "outputs": [
    {
     "name": "stdout",
     "output_type": "stream",
     "text": [
      "{'Name': 'Jane', 'Age': 21, 'Sex': 'Female', 'Subjects': ['Geography', 'Maths', 'English', 'Biology']}\n"
     ]
    }
   ],
   "source": [
    "my_dictionay = {'Name': 'Jane', 'Age': 21, 'Sex': 'Female', 'Subjects': ['Geography', 'Maths', 'English', 'Biology']}\n",
    "print(my_dictionay)"
   ]
  },
  {
   "cell_type": "code",
   "execution_count": 8,
   "id": "b604ede3",
   "metadata": {},
   "outputs": [
    {
     "name": "stdout",
     "output_type": "stream",
     "text": [
      "dict_keys(['Name', 'Age', 'Sex', 'Subjects'])\n"
     ]
    }
   ],
   "source": [
    "dict_keys = my_dictionay.keys()\n",
    "print(dict_keys)"
   ]
  },
  {
   "cell_type": "code",
   "execution_count": 9,
   "id": "74222405",
   "metadata": {},
   "outputs": [
    {
     "name": "stdout",
     "output_type": "stream",
     "text": [
      "dict_values(['Jane', 21, 'Female', ['Geography', 'Maths', 'English', 'Biology']])\n"
     ]
    }
   ],
   "source": [
    "dict_values = my_dictionay.values()\n",
    "print(dict_values)"
   ]
  },
  {
   "cell_type": "code",
   "execution_count": 10,
   "id": "874887bf",
   "metadata": {},
   "outputs": [
    {
     "name": "stdout",
     "output_type": "stream",
     "text": [
      "{'Name': 'Jane', 'Sex': 'Female', 'Subjects': ['Geography', 'Maths', 'English', 'Biology']}\n"
     ]
    }
   ],
   "source": [
    "my_dictionay.pop('Age')\n",
    "print(my_dictionay)"
   ]
  },
  {
   "cell_type": "code",
   "execution_count": 11,
   "id": "75dd5efc",
   "metadata": {},
   "outputs": [
    {
     "name": "stdout",
     "output_type": "stream",
     "text": [
      "dict_items([('Name', 'Jane'), ('Sex', 'Female'), ('Subjects', ['Geography', 'Maths', 'English', 'Biology'])])\n"
     ]
    }
   ],
   "source": [
    "dict_items = my_dictionay.items()\n",
    "print(dict_items)"
   ]
  },
  {
   "cell_type": "code",
   "execution_count": 13,
   "id": "946ec2e9",
   "metadata": {},
   "outputs": [
    {
     "name": "stdout",
     "output_type": "stream",
     "text": [
      "Jane\n",
      "Jane\n"
     ]
    }
   ],
   "source": [
    "name = my_dictionay.get('Name')\n",
    "name2 = my_dictionay['Name']\n",
    "print(name)\n",
    "print(name2)"
   ]
  },
  {
   "cell_type": "code",
   "execution_count": 14,
   "id": "9c1ff52a",
   "metadata": {},
   "outputs": [
    {
     "name": "stdout",
     "output_type": "stream",
     "text": [
      "{'Name': 'Jane', 'Sex': 'Female', 'Subjects': ['Geography', 'Maths', 'English', 'Biology']}\n",
      "{'Name': 'Jane', 'Sex': 'Female'}\n"
     ]
    }
   ],
   "source": [
    "print(my_dictionay)\n",
    "my_dictionay.popitem()\n",
    "print(my_dictionay)"
   ]
  },
  {
   "cell_type": "code",
   "execution_count": 17,
   "id": "a5ef6cbc",
   "metadata": {},
   "outputs": [
    {
     "name": "stdout",
     "output_type": "stream",
     "text": [
      "Jane\n",
      "Female\n",
      "['Geography', 'Maths', 'English', 'Biology']\n"
     ]
    }
   ],
   "source": [
    "my_dict = {'Name': 'Jane', 'Sex': 'Female', 'Subjects': ['Geography', 'Maths', 'English', 'Biology']}\n",
    "for key in my_dict:\n",
    "    print(my_dict[key])\n",
    "    #print(my_dict.get(key))"
   ]
  },
  {
   "cell_type": "code",
   "execution_count": null,
   "id": "4379595f",
   "metadata": {},
   "outputs": [],
   "source": []
  }
 ],
 "metadata": {
  "kernelspec": {
   "display_name": "Python 3",
   "language": "python",
   "name": "python3"
  },
  "language_info": {
   "codemirror_mode": {
    "name": "ipython",
    "version": 3
   },
   "file_extension": ".py",
   "mimetype": "text/x-python",
   "name": "python",
   "nbconvert_exporter": "python",
   "pygments_lexer": "ipython3",
   "version": "3.9.5"
  }
 },
 "nbformat": 4,
 "nbformat_minor": 5
}
