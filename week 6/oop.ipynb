{
 "cells": [
  {
   "cell_type": "code",
   "execution_count": 17,
   "id": "15976830",
   "metadata": {},
   "outputs": [],
   "source": [
    "#pip3 install multipledispatch\n",
    "from multipledispatch import dispatch\n",
    "class Person(object):\n",
    "    sex = 'male'\n",
    "    age = 10\n",
    "    def __init__(self, name):\n",
    "        self.name = name\n",
    "        return\n",
    "    def getInfo(self):\n",
    "        print('Name:',self.name)\n",
    "        print('Age', self.age)\n",
    "        print('Sex', self.sex)\n",
    "        return self\n",
    "    @dispatch(str, int)\n",
    "    def setInfo(self, sex, age):\n",
    "        self.sex = sex\n",
    "        self.age = age\n",
    "        return\n",
    "    @dispatch(str)\n",
    "    def setInfo(self, sex):\n",
    "        self.sex = sex\n",
    "        return\n",
    " \n",
    "\n",
    "      "
   ]
  },
  {
   "cell_type": "code",
   "execution_count": 18,
   "id": "e6fc466c",
   "metadata": {},
   "outputs": [
    {
     "name": "stdout",
     "output_type": "stream",
     "text": [
      "Name: Sam\n",
      "Age 30\n",
      "Sex Female\n"
     ]
    },
    {
     "data": {
      "text/plain": [
       "<__main__.Person at 0x2252c915430>"
      ]
     },
     "execution_count": 18,
     "metadata": {},
     "output_type": "execute_result"
    }
   ],
   "source": [
    "person_obj = Person('Sam')\n",
    "person_obj.setInfo('Female',30)\n",
    "person_obj.getInfo() "
   ]
  },
  {
   "cell_type": "code",
   "execution_count": 20,
   "id": "7a23950c",
   "metadata": {},
   "outputs": [
    {
     "name": "stdout",
     "output_type": "stream",
     "text": [
      "first method\n"
     ]
    }
   ],
   "source": [
    "from typing import overload\n",
    "from typing import Any, Optional\n",
    "class A(object):\n",
    "    @overload\n",
    "    def flow(self) -> None:    \n",
    "        print('first method')\n",
    "    @overload\n",
    "    def flow(self, i: Any) -> None:\n",
    "        print('second method', i)\n",
    "    def flow(self, i: Optional[Any] = None) -> None:\n",
    "        if not i:\n",
    "            print('first method')\n",
    "        else:\n",
    "            print('second method', i)\n",
    "\n",
    "ob=A()\n",
    "ob.flow()"
   ]
  },
  {
   "cell_type": "code",
   "execution_count": null,
   "id": "b9a291ba",
   "metadata": {},
   "outputs": [],
   "source": []
  }
 ],
 "metadata": {
  "kernelspec": {
   "display_name": "Python 3",
   "language": "python",
   "name": "python3"
  },
  "language_info": {
   "codemirror_mode": {
    "name": "ipython",
    "version": 3
   },
   "file_extension": ".py",
   "mimetype": "text/x-python",
   "name": "python",
   "nbconvert_exporter": "python",
   "pygments_lexer": "ipython3",
   "version": "3.9.5"
  }
 },
 "nbformat": 4,
 "nbformat_minor": 5
}
