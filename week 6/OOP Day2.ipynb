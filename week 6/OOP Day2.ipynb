{
 "cells": [
  {
   "cell_type": "code",
   "execution_count": 16,
   "id": "33f70f0a",
   "metadata": {},
   "outputs": [],
   "source": [
    "class Animal:\n",
    "    def talk(self):\n",
    "        print (\"I have something to say!\")\n",
    "    def walk(self):\n",
    "        print (\"Hey! I am walking here!\")\n",
    "    def clothes(self):\n",
    "        print (\"I have nice clothes!\")\n",
    "\n",
    "class Duck(Animal):\n",
    "    def __init__(self, color = \"white\"):\n",
    "        self._color = color\n",
    "    def quack(self):\n",
    "        print(\"Quaaaaaack\")\n",
    "    def walk(self):\n",
    "        super().walk()\n",
    "        print(\"Walks like a duck.\")\n",
    "    def get_color(self):\n",
    "        return self._color\n",
    "    def set_color(self,color):\n",
    "        self._color = color\n",
    "\n",
    "class Dog(Animal):\n",
    "    def clothes(self):\n",
    "        print (\"i have brown and white gown\")\n"
   ]
  },
  {
   "cell_type": "code",
   "execution_count": 14,
   "id": "9c807a53",
   "metadata": {},
   "outputs": [
    {
     "name": "stdout",
     "output_type": "stream",
     "text": [
      "I have nice clothes!\n",
      "Hey! I am walking here!\n",
      "Walks like a duck.\n",
      "Yello\n"
     ]
    }
   ],
   "source": [
    "duck_obj = Duck('Black')\n",
    "duck_obj.clothes()\n",
    "duck_obj.walk()\n",
    "duck_obj.set_color('Yello')\n",
    "print(duck_obj.get_color())"
   ]
  },
  {
   "cell_type": "code",
   "execution_count": 17,
   "id": "859730a0",
   "metadata": {},
   "outputs": [
    {
     "name": "stdout",
     "output_type": "stream",
     "text": [
      "Hey! I am walking here!\n",
      "I have something to say!\n"
     ]
    }
   ],
   "source": [
    "dog_obj = Dog()\n",
    "dog_obj.walk()\n",
    "dog_obj.talk()"
   ]
  },
  {
   "cell_type": "code",
   "execution_count": 18,
   "id": "3033989d",
   "metadata": {},
   "outputs": [
    {
     "name": "stdout",
     "output_type": "stream",
     "text": [
      "Hey! I am walking here!\n"
     ]
    }
   ],
   "source": [
    "class BullDog(Dog):\n",
    "    def talk(self):\n",
    "        print('I do not only talk, I back')\n",
    "\n",
    "b_dog_obj = BullDog()\n",
    "b_dog_obj.walk()"
   ]
  },
  {
   "cell_type": "code",
   "execution_count": 19,
   "id": "f56e1562",
   "metadata": {},
   "outputs": [
    {
     "name": "stdout",
     "output_type": "stream",
     "text": [
      "Quaaaaaack\n",
      "i have brown and white gown\n"
     ]
    }
   ],
   "source": [
    "class DuckDog(Duck,Dog):\n",
    "    def breathe():\n",
    "        print('I breathe aloud')\n",
    "\n",
    "duck_dog_obj = DuckDog()\n",
    "duck_dog_obj.quack()\n",
    "duck_dog_obj.clothes()"
   ]
  },
  {
   "cell_type": "code",
   "execution_count": null,
   "id": "f059abae",
   "metadata": {},
   "outputs": [],
   "source": [
    "class Bird:\n",
    "    def intro(self):\n",
    "        print(\"There are many types of birds.\")\n",
    "    def flight(self):\n",
    "        print(\"Most of the birds can fly but some cannot.\")\n",
    "\n",
    "class sparrow(Bird):\n",
    "    def flight(self):\n",
    "        print(\"Sparrows can fly.\")\n",
    "        \n",
    "class ostrich(Bird):\n",
    "    def flight(self):\n",
    "        print(\"Ostriches cannot fly.\")\n"
   ]
  }
 ],
 "metadata": {
  "kernelspec": {
   "display_name": "Python 3",
   "language": "python",
   "name": "python3"
  },
  "language_info": {
   "codemirror_mode": {
    "name": "ipython",
    "version": 3
   },
   "file_extension": ".py",
   "mimetype": "text/x-python",
   "name": "python",
   "nbconvert_exporter": "python",
   "pygments_lexer": "ipython3",
   "version": "3.9.5"
  }
 },
 "nbformat": 4,
 "nbformat_minor": 5
}
