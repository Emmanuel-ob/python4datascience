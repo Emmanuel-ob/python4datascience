{
 "cells": [
  {
   "cell_type": "code",
   "execution_count": 3,
   "id": "5db817c3",
   "metadata": {},
   "outputs": [
    {
     "name": "stdout",
     "output_type": "stream",
     "text": [
      "The animal is walking.\n",
      "The animal is talking.\n"
     ]
    }
   ],
   "source": [
    "class Animal:\n",
    "    def walk(self):\n",
    "        print(\"The animal is walking.\")\n",
    "\n",
    "    def talk(self):\n",
    "        print(\"The animal is talking.\")\n",
    "        \n",
    "animal = Animal()\n",
    "\n",
    "\n",
    "animal.walk()  # Output: The animal is walking.\n",
    "\n",
    "animal.talk()  # Output: The animal is talking.\n"
   ]
  }
 ],
 "metadata": {
  "kernelspec": {
   "display_name": "Python 3",
   "language": "python",
   "name": "python3"
  },
  "language_info": {
   "codemirror_mode": {
    "name": "ipython",
    "version": 3
   },
   "file_extension": ".py",
   "mimetype": "text/x-python",
   "name": "python",
   "nbconvert_exporter": "python",
   "pygments_lexer": "ipython3",
   "version": "3.9.5"
  }
 },
 "nbformat": 4,
 "nbformat_minor": 5
}
