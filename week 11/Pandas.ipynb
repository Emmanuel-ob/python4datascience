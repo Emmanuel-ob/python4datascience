{
 "cells": [
  {
   "cell_type": "code",
   "execution_count": 2,
   "id": "fda909ab",
   "metadata": {},
   "outputs": [
    {
     "name": "stdout",
     "output_type": "stream",
     "text": [
      "a    0.804801\n",
      "b    0.536962\n",
      "c    0.259701\n",
      "d    0.679447\n",
      "e   -0.337753\n",
      "dtype: float64\n",
      "Index(['a', 'b', 'c', 'd', 'e'], dtype='object')\n"
     ]
    }
   ],
   "source": [
    "import pandas as pd\n",
    "import numpy as np\n",
    "\n",
    "s = pd.Series(np.random.randn(5), index=['a', 'b', 'c', 'd', 'e'])\n",
    "print(s)\n",
    "print(s.index)\n"
   ]
  },
  {
   "cell_type": "code",
   "execution_count": 3,
   "id": "34761e40",
   "metadata": {},
   "outputs": [
    {
     "name": "stdout",
     "output_type": "stream",
     "text": [
      "0    7\n",
      "1    3\n",
      "2    5\n",
      "3    6\n",
      "4    2\n",
      "5    8\n",
      "dtype: int64\n",
      "b    1\n",
      "a    0\n",
      "c    2\n",
      "dtype: int64\n"
     ]
    }
   ],
   "source": [
    "j = pd.Series([7, 3, 5, 6, 2, 8]) \n",
    "print(j)\n",
    "\n",
    "#Passing  a dict\n",
    "d = {'b' : 1, 'a' : 0, 'c' : 2}  \n",
    "x = pd.Series(d)\n",
    "print(x)  \n"
   ]
  },
  {
   "cell_type": "code",
   "execution_count": 6,
   "id": "35c343b2",
   "metadata": {},
   "outputs": [
    {
     "name": "stdout",
     "output_type": "stream",
     "text": [
      "   one  two  three\n",
      "a  1.0  1.0      3\n",
      "b  2.0  2.0      5\n",
      "c  3.0  3.0      6\n",
      "d  NaN  4.0      3\n",
      "e  NaN  NaN      9\n"
     ]
    }
   ],
   "source": [
    "#From dict of Series or dicts\n",
    "d = {'one' : pd.Series([1., 2., 3.], index=['a', 'b', 'c']), 'two' : pd.Series([1., 2., 3., 4.], index=['a', 'b', 'c', 'd']), 'three': pd.Series([3, 5, 6, 3, 9], index=['a', 'b', 'c', 'd', 'e']) }\n",
    "df = pd.DataFrame(d)\n",
    "print(df)"
   ]
  },
  {
   "cell_type": "code",
   "execution_count": 7,
   "id": "ea96d7b8",
   "metadata": {},
   "outputs": [
    {
     "name": "stdout",
     "output_type": "stream",
     "text": [
      "   one  two  three\n",
      "d  NaN  4.0      3\n",
      "b  2.0  2.0      5\n",
      "a  1.0  1.0      3\n",
      "   two  three\n",
      "d  4.0      3\n",
      "b  2.0      5\n",
      "a  1.0      3\n"
     ]
    }
   ],
   "source": [
    "#Getting  items base on specified index\n",
    "df = pd.DataFrame(d, index=['d', 'b', 'a'])\n",
    "print(df)\n",
    "\n",
    "#Getting  items base on specified index and column\n",
    "df = pd.DataFrame(d, index=['d', 'b', 'a'], columns=['two', 'three'])\n",
    "print(df)\n"
   ]
  },
  {
   "cell_type": "code",
   "execution_count": null,
   "id": "ad3e8303",
   "metadata": {},
   "outputs": [],
   "source": []
  }
 ],
 "metadata": {
  "kernelspec": {
   "display_name": "Python 3",
   "language": "python",
   "name": "python3"
  },
  "language_info": {
   "codemirror_mode": {
    "name": "ipython",
    "version": 3
   },
   "file_extension": ".py",
   "mimetype": "text/x-python",
   "name": "python",
   "nbconvert_exporter": "python",
   "pygments_lexer": "ipython3",
   "version": "3.9.5"
  }
 },
 "nbformat": 4,
 "nbformat_minor": 5
}
