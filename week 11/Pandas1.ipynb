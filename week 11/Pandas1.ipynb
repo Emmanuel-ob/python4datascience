{
 "cells": [
  {
   "cell_type": "code",
   "execution_count": 3,
   "id": "06a54072",
   "metadata": {},
   "outputs": [
    {
     "name": "stdout",
     "output_type": "stream",
     "text": [
      "a    2\n",
      "b    4\n",
      "c    6\n",
      "d    7\n",
      "dtype: int64\n",
      "0    2\n",
      "1    4\n",
      "2    6\n",
      "3    7\n",
      "dtype: int64\n"
     ]
    }
   ],
   "source": [
    "import numpy as np\n",
    "import pandas as pd\n",
    "\n",
    "#Create series from a list\n",
    "j = pd.Series([2,4,6,7], index=['a', 'b', 'c', 'd'])\n",
    "print(j)\n",
    "\n",
    "i = pd.Series([2,4,6,7])\n",
    "print(i)"
   ]
  },
  {
   "cell_type": "code",
   "execution_count": 4,
   "id": "b6b9bca2",
   "metadata": {},
   "outputs": [
    {
     "name": "stdout",
     "output_type": "stream",
     "text": [
      "a    0.348450\n",
      "b    0.709948\n",
      "c   -0.005418\n",
      "d   -1.191649\n",
      "e   -0.237900\n",
      "dtype: float64\n",
      "Index(['a', 'b', 'c', 'd', 'e'], dtype='object')\n"
     ]
    }
   ],
   "source": [
    "#Create series from np ndarray\n",
    "p = pd.Series(np.random.randn(5), index=['a', 'b', 'c', 'd', 'e'])\n",
    "print(p)\n",
    "print(p.index)"
   ]
  },
  {
   "cell_type": "code",
   "execution_count": 5,
   "id": "c55fb5a9",
   "metadata": {},
   "outputs": [
    {
     "name": "stdout",
     "output_type": "stream",
     "text": [
      "one      2\n",
      "two      5\n",
      "three    8\n",
      "dtype: int64\n"
     ]
    }
   ],
   "source": [
    "#Create series from a dictionary\n",
    "data = {'one': 2, 'two': 5, 'three': 8} \n",
    "d = pd.Series(data)\n",
    "print(d)"
   ]
  },
  {
   "cell_type": "code",
   "execution_count": 6,
   "id": "88e918b8",
   "metadata": {},
   "outputs": [
    {
     "name": "stdout",
     "output_type": "stream",
     "text": [
      "   one  two  three\n",
      "a  1.0  3.0      6\n",
      "b  2.0  5.0     12\n",
      "c  3.0  3.0      5\n",
      "d  4.0  4.0     47\n",
      "e  NaN  NaN     43\n"
     ]
    }
   ],
   "source": [
    "#Create DataFrame from a dictionary of series\n",
    "data = {'one': pd.Series([1,2,3,4], index=['a', 'b', 'c', 'd']), 'two': pd.Series([3,5,3,4], index=['a', 'b', 'c', 'd']), 'three': pd.Series([6,12,5,47, 43], index=['a', 'b', 'c', 'd', 'e'])} \n",
    "d = pd.DataFrame(data)\n",
    "print(d)"
   ]
  },
  {
   "cell_type": "code",
   "execution_count": 7,
   "id": "a141f7b6",
   "metadata": {},
   "outputs": [
    {
     "name": "stdout",
     "output_type": "stream",
     "text": [
      "   two  three\n",
      "a  3.0      6\n",
      "b  5.0     12\n",
      "c  3.0      5\n",
      "d  4.0     47\n",
      "e  NaN     43\n"
     ]
    }
   ],
   "source": [
    "df = pd.DataFrame(d,columns=['two', 'three'])\n",
    "print(df)"
   ]
  },
  {
   "cell_type": "code",
   "execution_count": 9,
   "id": "e4eb2a14",
   "metadata": {},
   "outputs": [
    {
     "name": "stdout",
     "output_type": "stream",
     "text": [
      "            two      three\n",
      "count  4.000000   5.000000\n",
      "mean   3.750000  22.600000\n",
      "std    0.957427  20.671236\n",
      "min    3.000000   5.000000\n",
      "25%    3.000000   6.000000\n",
      "50%    3.500000  12.000000\n",
      "75%    4.250000  43.000000\n",
      "max    5.000000  47.000000\n"
     ]
    }
   ],
   "source": [
    "print(df.describe())"
   ]
  },
  {
   "cell_type": "code",
   "execution_count": 10,
   "id": "7b69747b",
   "metadata": {},
   "outputs": [
    {
     "name": "stdout",
     "output_type": "stream",
     "text": [
      "<class 'pandas.core.frame.DataFrame'>\n",
      "Index: 5 entries, a to e\n",
      "Data columns (total 2 columns):\n",
      " #   Column  Non-Null Count  Dtype  \n",
      "---  ------  --------------  -----  \n",
      " 0   two     4 non-null      float64\n",
      " 1   three   5 non-null      int64  \n",
      "dtypes: float64(1), int64(1)\n",
      "memory usage: 120.0+ bytes\n",
      "None\n"
     ]
    }
   ],
   "source": [
    "print(df.info())"
   ]
  },
  {
   "cell_type": "code",
   "execution_count": 12,
   "id": "eb1eaba6",
   "metadata": {},
   "outputs": [
    {
     "name": "stdout",
     "output_type": "stream",
     "text": [
      "     two  three\n",
      "a  False  False\n",
      "b  False  False\n",
      "c  False  False\n",
      "d  False  False\n",
      "e   True  False\n",
      "two       True\n",
      "three    False\n",
      "dtype: bool\n"
     ]
    }
   ],
   "source": [
    "print(df.isna())\n",
    "print(df.isna().any())"
   ]
  },
  {
   "cell_type": "code",
   "execution_count": 13,
   "id": "c3f83663",
   "metadata": {},
   "outputs": [
    {
     "name": "stdout",
     "output_type": "stream",
     "text": [
      "a    3.0\n",
      "b    5.0\n",
      "c    3.0\n",
      "d    4.0\n",
      "e    NaN\n",
      "Name: two, dtype: float64\n"
     ]
    }
   ],
   "source": [
    "print(df['two'])"
   ]
  },
  {
   "cell_type": "code",
   "execution_count": 14,
   "id": "e4fc1c53",
   "metadata": {},
   "outputs": [
    {
     "name": "stdout",
     "output_type": "stream",
     "text": [
      "   two  three   four\n",
      "a  3.0      6   18.0\n",
      "b  5.0     12   60.0\n",
      "c  3.0      5   15.0\n",
      "d  4.0     47  188.0\n",
      "e  NaN     43    NaN\n"
     ]
    }
   ],
   "source": [
    "df['four']  = df['two'] *df['three']\n",
    "print(df)"
   ]
  },
  {
   "cell_type": "code",
   "execution_count": 15,
   "id": "4d47bccb",
   "metadata": {},
   "outputs": [
    {
     "name": "stdout",
     "output_type": "stream",
     "text": [
      "   two  three   four  five\n",
      "a  3.0      6   18.0  None\n",
      "b  5.0     12   60.0  None\n",
      "c  3.0      5   15.0  None\n",
      "d  4.0     47  188.0  None\n",
      "e  NaN     43    NaN  None\n"
     ]
    }
   ],
   "source": [
    "df['five']  = None\n",
    "print(df)"
   ]
  },
  {
   "cell_type": "code",
   "execution_count": 16,
   "id": "cebaa335",
   "metadata": {},
   "outputs": [
    {
     "name": "stdout",
     "output_type": "stream",
     "text": [
      "<class 'pandas.core.frame.DataFrame'>\n",
      "Index: 5 entries, a to e\n",
      "Data columns (total 4 columns):\n",
      " #   Column  Non-Null Count  Dtype  \n",
      "---  ------  --------------  -----  \n",
      " 0   two     4 non-null      float64\n",
      " 1   three   5 non-null      int64  \n",
      " 2   four    4 non-null      float64\n",
      " 3   five    0 non-null      object \n",
      "dtypes: float64(2), int64(1), object(1)\n",
      "memory usage: 200.0+ bytes\n",
      "None\n"
     ]
    }
   ],
   "source": [
    "print(df.info())"
   ]
  },
  {
   "cell_type": "code",
   "execution_count": 17,
   "id": "677ee498",
   "metadata": {},
   "outputs": [
    {
     "name": "stdout",
     "output_type": "stream",
     "text": [
      "[ 3.  5.  4. nan]\n"
     ]
    }
   ],
   "source": [
    "print(df['two'].unique())"
   ]
  },
  {
   "cell_type": "code",
   "execution_count": 18,
   "id": "cb2acc24",
   "metadata": {},
   "outputs": [
    {
     "name": "stdout",
     "output_type": "stream",
     "text": [
      "[None]\n"
     ]
    }
   ],
   "source": [
    "print(df['five'].unique())"
   ]
  },
  {
   "cell_type": "code",
   "execution_count": 19,
   "id": "8e04d1d0",
   "metadata": {},
   "outputs": [
    {
     "name": "stdout",
     "output_type": "stream",
     "text": [
      "   Unnamed: 0                            title         price  imageCount  \\\n",
      "0           0            Toyota Camry 2010 Red   ₦ 1,500,000           7   \n",
      "1           1           Lexus RX 350 2018 Blue  ₦ 20,500,000           7   \n",
      "2           2   Lexus GX 460 Luxury 2016 Black  ₦ 27,000,000          16   \n",
      "3           3    Acura ZDX Base AWD 2011 Black   ₦ 4,500,000          11   \n",
      "4           4  Mercedes-Benz GLA 250 2019 Gray  ₦ 18,700,000          11   \n",
      "\n",
      "                                                link  \n",
      "0  https://jiji.ng/kubwa/cars/toyota-camry-2010-r...  \n",
      "1  https://jiji.ng/ajah/cars/lexus-rx-350-2018-bl...  \n",
      "2  https://jiji.ng/ojodu/cars/lexus-gx-460-luxury...  \n",
      "3  https://jiji.ng/lugbe/cars/acura-zdx-base-awd-...  \n",
      "4  https://jiji.ng/magodo/cars/mercedes-benz-gla-...  \n"
     ]
    }
   ],
   "source": [
    "jiji_adds = pd.read_csv('jiji_trending_adds.csv')\n",
    "print(jiji_adds.head())"
   ]
  },
  {
   "cell_type": "code",
   "execution_count": 25,
   "id": "6760cbb3",
   "metadata": {},
   "outputs": [
    {
     "name": "stdout",
     "output_type": "stream",
     "text": [
      "       Unnamed: 0  imageCount\n",
      "count   60.000000   60.000000\n",
      "mean    29.500000    7.266667\n",
      "std     17.464249    4.368092\n",
      "min      0.000000    1.000000\n",
      "25%     14.750000    4.750000\n",
      "50%     29.500000    6.000000\n",
      "75%     44.250000   11.000000\n",
      "max     59.000000   20.000000\n"
     ]
    }
   ],
   "source": [
    "print(jiji_adds.describe())"
   ]
  },
  {
   "cell_type": "code",
   "execution_count": null,
   "id": "95a19918",
   "metadata": {},
   "outputs": [],
   "source": []
  }
 ],
 "metadata": {
  "kernelspec": {
   "display_name": "Python 3",
   "language": "python",
   "name": "python3"
  },
  "language_info": {
   "codemirror_mode": {
    "name": "ipython",
    "version": 3
   },
   "file_extension": ".py",
   "mimetype": "text/x-python",
   "name": "python",
   "nbconvert_exporter": "python",
   "pygments_lexer": "ipython3",
   "version": "3.9.5"
  }
 },
 "nbformat": 4,
 "nbformat_minor": 5
}
