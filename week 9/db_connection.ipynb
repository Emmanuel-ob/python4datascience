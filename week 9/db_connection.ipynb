{
 "cells": [
  {
   "cell_type": "code",
   "execution_count": 16,
   "id": "7670356c",
   "metadata": {},
   "outputs": [
    {
     "name": "stdout",
     "output_type": "stream",
     "text": [
      "Requirement already satisfied: pymysql in c:\\python3.9.5\\lib\\site-packages (1.0.3)\n",
      "Note: you may need to restart the kernel to use updated packages.\n"
     ]
    },
    {
     "name": "stderr",
     "output_type": "stream",
     "text": [
      "WARNING: You are using pip version 22.0.3; however, version 23.1.2 is available.\n",
      "You should consider upgrading via the 'c:\\python3.9.5\\python.exe -m pip install --upgrade pip' command.\n"
     ]
    }
   ],
   "source": [
    "pip install pymysql"
   ]
  },
  {
   "cell_type": "code",
   "execution_count": 20,
   "id": "7fd75bea",
   "metadata": {},
   "outputs": [
    {
     "name": "stdout",
     "output_type": "stream",
     "text": [
      "1, Umu, 24, Sabo yaba, umu@yahoo.com\n",
      "2, Samuel Oke, 23, Festac, lagos, samuel@gmail.com\n",
      "3, joy Daniel, 24, Festac, lagos, joy@gmail.com\n",
      "We are done!\n"
     ]
    }
   ],
   "source": [
    "import pymysql\n",
    "\n",
    "##   Connect to database\n",
    "db = pymysql.connect(host='localhost', user='root', password='', database=\"univelcity\", charset='utf8mb4', cursorclass=pymysql.cursors.DictCursor)\n",
    "\n",
    "### prepare a cursor object using cursor() method\n",
    "cursor = db.cursor()\n",
    "\n",
    "### Prepare SQL query fetch records into the database.\n",
    "query = (\"SELECT * FROM student\")\n",
    "##   # Execute the SQL command\n",
    "cursor.execute(query)\n",
    "data = cursor.fetchall()\n",
    "#print(data)\n",
    "\n",
    "for student in data:\n",
    "    id, stu_name, age, address, email = student.values()\n",
    "    print(\"{}, {}, {}, {}, {}\".format(id, stu_name, age, address, email))\n",
    "print('We are done!')\n",
    "\n",
    "### disconnect from server\n",
    "db.close()"
   ]
  },
  {
   "cell_type": "code",
   "execution_count": null,
   "id": "4b277a91",
   "metadata": {},
   "outputs": [],
   "source": []
  }
 ],
 "metadata": {
  "kernelspec": {
   "display_name": "Python 3",
   "language": "python",
   "name": "python3"
  },
  "language_info": {
   "codemirror_mode": {
    "name": "ipython",
    "version": 3
   },
   "file_extension": ".py",
   "mimetype": "text/x-python",
   "name": "python",
   "nbconvert_exporter": "python",
   "pygments_lexer": "ipython3",
   "version": "3.9.5"
  }
 },
 "nbformat": 4,
 "nbformat_minor": 5
}
