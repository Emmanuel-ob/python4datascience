{
 "cells": [
  {
   "cell_type": "code",
   "execution_count": 7,
   "id": "dd7a756e",
   "metadata": {},
   "outputs": [
    {
     "name": "stdout",
     "output_type": "stream",
     "text": [
      "Sucessfully written to Database!!!\n"
     ]
    }
   ],
   "source": [
    "from bs4 import BeautifulSoup as bs\n",
    "import pandas  as pd\n",
    "import requests \n",
    "import pymysql\n",
    "pymysql.install_as_MySQLdb()\n",
    "from sqlalchemy import create_engine\n",
    "\n",
    "url = 'https://jiji.ng/'\n",
    "page = requests.get(url)\n",
    "soup = bs(page.content, 'html5lib')\n",
    "#print(soup.prettify())\n",
    "table = soup.find('div', attrs= {'class': 'h-dflex h-flex-wrap h-mh--7 h-mb--15'})\n",
    "#print(table)\n",
    "rows = table.findAll('div', attrs={'class': 'b-listing-cards__item'})\n",
    "items = []\n",
    "df = pd.DataFrame(columns=['title', 'price', 'imageCount', 'link'])\n",
    "for row in rows:\n",
    "    item = {}\n",
    "    item['title'] = row.find('div', attrs={'class': 'b-trending-card__title'}).text.replace(\"\\n        \", \"\").replace(\"\\n      \",\"\")\n",
    "    item['price'] = row.find('div', attrs={'class': 'b-trending-card__price'}).text.replace(\"\\n        \", \"\").replace(\"\\n      \",\"\").replace(\"₦ \",\"\")\n",
    "    item['imageCount'] = row.find('div', attrs={'class': 'b-trending-card__counter'}).text.replace(\"\\n        \", \"\").replace(\"\\n      \",\"\")\n",
    "    item['link'] = row.a['href']\n",
    "    \n",
    "    df = df.append(item, ignore_index=True)\n",
    "    #print(item)\n",
    "#df.to_csv('jiji_trending_adds.csv')\n",
    "try:\n",
    " conn = pymysql.connect(host='localhost', user='root', password='', database=\"univelcity\", charset='utf8mb4', cursorclass=pymysql.cursors.DictCursor)\n",
    " engine = create_engine('mysql://root:@localhost/univelcity')\n",
    " with engine.begin() as connection:\n",
    "  df.to_sql(name='web_scrapping_data', con=connection, if_exists='append', index=False)\n",
    " print('Sucessfully written to Database!!!')\n",
    "\n",
    "except Exception as e:\n",
    "    print(e)\n"
   ]
  },
  {
   "cell_type": "code",
   "execution_count": 9,
   "id": "47497566",
   "metadata": {},
   "outputs": [],
   "source": [
    "from bs4 import BeautifulSoup as bs\n",
    "import pandas  as pd\n",
    "import requests \n",
    "import pymysql\n",
    "\n",
    "url = 'https://jiji.ng/'\n",
    "page = requests.get(url)\n",
    "soup = bs(page.content, 'html5lib')\n",
    "#print(soup.prettify())\n",
    "table = soup.find('div', attrs= {'class': 'h-dflex h-flex-wrap h-mh--7 h-mb--15'})\n",
    "#print(table)\n",
    "rows = table.findAll('div', attrs={'class': 'b-listing-cards__item'})\n",
    "items = []\n",
    "df = pd.DataFrame(columns=['title', 'price', 'imageCount', 'link'])\n",
    "for row in rows:\n",
    "    item = {}\n",
    "    item['title'] = row.find('div', attrs={'class': 'b-trending-card__title'}).text.replace(\"\\n        \", \"\").replace(\"\\n      \",\"\")\n",
    "    item['price'] = row.find('div', attrs={'class': 'b-trending-card__price'}).text.replace(\"\\n        \", \"\").replace(\"\\n      \",\"\").replace(\"₦ \",\"\")\n",
    "    item['imageCount'] = row.find('div', attrs={'class': 'b-trending-card__counter'}).text.replace(\"\\n        \", \"\").replace(\"\\n      \",\"\")\n",
    "    item['link'] = row.a['href']\n",
    "    \n",
    "    df = df.append(item, ignore_index=True)\n",
    "    try:\n",
    "        ##   Connect to database\n",
    "        db = pymysql.connect(host='localhost', user='root', password='', database=\"univelcity\", charset='utf8mb4', cursorclass=pymysql.cursors.DictCursor)\n",
    "\n",
    "        ### prepare a cursor object using cursor() method\n",
    "        cursor = db.cursor()\n",
    "        sql = \"INSERT INTO web_scrapping_data (title, price, imageCount, link) VALUES(%s, %s, %s, %s)\"\n",
    "        cursor.execute(sql, (item['title'], item['price'], item['imageCount'], item['link']))\n",
    "        db.commit()\n",
    "        print(\"Data inserted\")\n",
    "    except Exception as e:\n",
    "        db.rollback()\n",
    "        print(e)\n",
    "    db.close()\n",
    "\n",
    "df.to_csv('jiji_trending_adds.csv')\n"
   ]
  },
  {
   "cell_type": "code",
   "execution_count": null,
   "id": "3ce66278",
   "metadata": {},
   "outputs": [],
   "source": []
  }
 ],
 "metadata": {
  "kernelspec": {
   "display_name": "Python 3",
   "language": "python",
   "name": "python3"
  },
  "language_info": {
   "codemirror_mode": {
    "name": "ipython",
    "version": 3
   },
   "file_extension": ".py",
   "mimetype": "text/x-python",
   "name": "python",
   "nbconvert_exporter": "python",
   "pygments_lexer": "ipython3",
   "version": "3.9.5"
  }
 },
 "nbformat": 4,
 "nbformat_minor": 5
}
