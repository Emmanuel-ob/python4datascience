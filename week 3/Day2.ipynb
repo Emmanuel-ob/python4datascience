{
 "cells": [
  {
   "cell_type": "code",
   "execution_count": 4,
   "id": "7856be24",
   "metadata": {},
   "outputs": [
    {
     "name": "stdout",
     "output_type": "stream",
     "text": [
      "1 square = 1\n",
      "4 square = 16\n",
      "7 square = 49\n"
     ]
    }
   ],
   "source": [
    "#using a break statement in loop\n",
    "#\n",
    "mylist = [1,2,3,4,5,6,7,8,9,10,11,12,13,14,15,16,17,18,19,20]\n",
    "for number in range(1,21,3):\n",
    "    if number == 10:\n",
    "        break\n",
    "    else:\n",
    "        print(number, 'square =', number**2)"
   ]
  },
  {
   "cell_type": "code",
   "execution_count": 1,
   "id": "7f1157f4",
   "metadata": {},
   "outputs": [
    {
     "name": "stdout",
     "output_type": "stream",
     "text": [
      "1 square = 1\n",
      "2 square = 4\n",
      "3 square = 9\n",
      "4 square = 16\n",
      "5 square = 25\n",
      "6 square = 36\n",
      "7 square = 49\n",
      "8 square = 64\n",
      "9 square = 81\n"
     ]
    }
   ],
   "source": [
    "#using while loop\n",
    "number = 1\n",
    "while number < 21:\n",
    "    if number == 10:\n",
    "        break\n",
    "    else:\n",
    "        print(number, 'square =', number**2)\n",
    "    #number = number + 1\n",
    "    number +=1"
   ]
  },
  {
   "cell_type": "code",
   "execution_count": 5,
   "id": "d62ac7c9",
   "metadata": {},
   "outputs": [
    {
     "name": "stdout",
     "output_type": "stream",
     "text": [
      "1 square = 1\n",
      "2 square = 4\n",
      "3 square = 9\n",
      "4 square = 16\n",
      "5 square = 25\n",
      "6 square = 36\n",
      "7 square = 49\n",
      "8 square = 64\n",
      "9 square = 81\n",
      "11 square = 121\n",
      "12 square = 144\n",
      "13 square = 169\n",
      "14 square = 196\n",
      "15 square = 225\n",
      "16 square = 256\n",
      "17 square = 289\n",
      "18 square = 324\n",
      "19 square = 361\n",
      "20 square = 400\n"
     ]
    }
   ],
   "source": [
    "#using a continue statement in loop\n",
    "#\n",
    "#mylist = [1,2,3,4,5,6,7,8,9,10,11,12,13,14,15,16,17,18,19,20]\n",
    "for number in range(1,21):\n",
    "    if number == 10:\n",
    "        continue\n",
    "    else:\n",
    "        print(number, 'square =', number**2)"
   ]
  },
  {
   "cell_type": "code",
   "execution_count": 13,
   "id": "f6573560",
   "metadata": {},
   "outputs": [
    {
     "name": "stdout",
     "output_type": "stream",
     "text": [
      "[40, 45, 50, 60]\n",
      "[40, 45, 50, 60]\n"
     ]
    }
   ],
   "source": [
    "#List comprehension\n",
    "#add additional to student scores\n",
    "scores = [30, 35, 40, 50]\n",
    "upgraded_scores = [x+10 for x in scores]\n",
    "print(upgraded_scores)\n",
    "\n",
    "#using for loop\n",
    "new_list = []\n",
    "for x in scores:\n",
    "    x += 10\n",
    "    new_list.append(x)\n",
    "print(new_list)"
   ]
  },
  {
   "cell_type": "code",
   "execution_count": 21,
   "id": "5a733f6a",
   "metadata": {},
   "outputs": [
    {
     "name": "stdout",
     "output_type": "stream",
     "text": [
      "[85.71428571428571]\n",
      "[57.14, 64.29, 71.43, 85.71]\n"
     ]
    }
   ],
   "source": [
    "#List comprehension\n",
    "#add additional to student scores and calculating the percentage\n",
    "scores = [30, 35, 40, 50]\n",
    "upgraded_scores = [(x+10)/70 * 100 for x in scores]\n",
    "print(upgraded_scores)\n",
    "\n",
    "#using for loop\n",
    "new_list = []\n",
    "for x in scores:\n",
    "    x += 10\n",
    "    y = x/70 * 100\n",
    "    y = round(y, 2)\n",
    "    new_list.append(y)\n",
    "print(new_list)"
   ]
  },
  {
   "cell_type": "code",
   "execution_count": null,
   "id": "1788bec0",
   "metadata": {},
   "outputs": [],
   "source": []
  }
 ],
 "metadata": {
  "kernelspec": {
   "display_name": "Python 3",
   "language": "python",
   "name": "python3"
  },
  "language_info": {
   "codemirror_mode": {
    "name": "ipython",
    "version": 3
   },
   "file_extension": ".py",
   "mimetype": "text/x-python",
   "name": "python",
   "nbconvert_exporter": "python",
   "pygments_lexer": "ipython3",
   "version": "3.9.5"
  }
 },
 "nbformat": 4,
 "nbformat_minor": 5
}
