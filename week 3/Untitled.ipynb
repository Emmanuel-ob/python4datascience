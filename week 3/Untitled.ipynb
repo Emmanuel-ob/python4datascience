{
 "cells": [
  {
   "cell_type": "code",
   "execution_count": 1,
   "id": "629415fa",
   "metadata": {},
   "outputs": [
    {
     "name": "stdout",
     "output_type": "stream",
     "text": [
      "[2, 4, 6, 8, 10, 12, 14, 16, 18, 20]\n"
     ]
    }
   ],
   "source": [
    "mylist = [x for x in range(1,21) if x%2 ==0]\n",
    "print(mylist)"
   ]
  },
  {
   "cell_type": "code",
   "execution_count": 4,
   "id": "51b1e967",
   "metadata": {},
   "outputs": [
    {
     "name": "stdout",
     "output_type": "stream",
     "text": [
      "[(1, 'Odd'), (2, 'Even'), (3, 'Odd'), (4, 'Even'), (5, 'Odd'), (6, 'Even'), (7, 'Odd'), (8, 'Even'), (9, 'Odd'), (10, 'Even'), (11, 'Odd'), (12, 'Even'), (13, 'Odd'), (14, 'Even'), (15, 'Odd'), (16, 'Even'), (17, 'Odd'), (18, 'Even'), (19, 'Odd'), (20, 'Even')]\n",
      "----------------------------------------\n"
     ]
    }
   ],
   "source": [
    "#Using if else statement in List comprehension\n",
    "combs = [(i, \"Even\") if i%2 == 0 else (i, \"Odd\") for i in range(1,21)]  \n",
    "print(combs)\n",
    "print(20*'--')"
   ]
  },
  {
   "cell_type": "code",
   "execution_count": 3,
   "id": "8efebb43",
   "metadata": {},
   "outputs": [
    {
     "name": "stdout",
     "output_type": "stream",
     "text": [
      "[0, 10, 20, 30, 40, 50, 60, 70, 80, 90]\n"
     ]
    }
   ],
   "source": [
    "#Nexted if statement in List comprehension\n",
    "num_list = [y for y in range(100) if y%2 == 0 if y%5 == 0]\n",
    "print(num_list)\n"
   ]
  },
  {
   "cell_type": "code",
   "execution_count": null,
   "id": "27cff110",
   "metadata": {},
   "outputs": [],
   "source": []
  }
 ],
 "metadata": {
  "kernelspec": {
   "display_name": "Python 3",
   "language": "python",
   "name": "python3"
  },
  "language_info": {
   "codemirror_mode": {
    "name": "ipython",
    "version": 3
   },
   "file_extension": ".py",
   "mimetype": "text/x-python",
   "name": "python",
   "nbconvert_exporter": "python",
   "pygments_lexer": "ipython3",
   "version": "3.9.5"
  }
 },
 "nbformat": 4,
 "nbformat_minor": 5
}
