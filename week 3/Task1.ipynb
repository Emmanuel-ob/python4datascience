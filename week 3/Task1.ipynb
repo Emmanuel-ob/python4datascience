{
 "cells": [
  {
   "cell_type": "code",
   "execution_count": 4,
   "id": "75779d65",
   "metadata": {},
   "outputs": [
    {
     "name": "stdout",
     "output_type": "stream",
     "text": [
      "Input a phrase: Samuel\n",
      "amu\n"
     ]
    }
   ],
   "source": [
    "#Fetching the first 3 characters inputted\n",
    "str_word = input('Input a phrase: ')\n",
    "print(str_word[1:4])"
   ]
  },
  {
   "cell_type": "code",
   "execution_count": 10,
   "id": "2d1b7d8c",
   "metadata": {},
   "outputs": [
    {
     "name": "stdout",
     "output_type": "stream",
     "text": [
      "Enter the student score: 69.2\n",
      "The student grade is B - VERY GOOD\n"
     ]
    }
   ],
   "source": [
    "#grading student scores\n",
    "score = float(input('Enter the student score: '))\n",
    "if score < 40:\n",
    "    print('The student grade is F - FAIL')\n",
    "elif score < 50 and score >= 40:\n",
    "    print('The student grade is D - FAIR')\n",
    "elif score < 60 and score >= 50:\n",
    "    print('The student grade is C - GOOD')\n",
    "elif score < 70 and score >= 60:\n",
    "    print('The student grade is B - VERY GOOD')\n",
    "elif score >= 70 and score <=100:\n",
    "    print('The student grade is A - EXCELLENT')\n",
    "else:\n",
    "    print('The student grade is A+ - EXTRAORDINARY')"
   ]
  },
  {
   "cell_type": "code",
   "execution_count": 12,
   "id": "fff0b150",
   "metadata": {},
   "outputs": [
    {
     "name": "stdout",
     "output_type": "stream",
     "text": [
      "the square of 1 is = 1\n",
      "the square of 2 is = 4\n",
      "the square of 3 is = 9\n",
      "the square of 4 is = 16\n",
      "the square of 5 is = 25\n",
      "the square of 6 is = 36\n",
      "the square of 7 is = 49\n",
      "the square of 8 is = 64\n",
      "the square of 9 is = 81\n",
      "the square of 10 is = 100\n",
      "the square of 11 is = 121\n",
      "the square of 12 is = 144\n",
      "the square of 13 is = 169\n",
      "the square of 14 is = 196\n",
      "the square of 15 is = 225\n",
      "the square of 16 is = 256\n",
      "the square of 17 is = 289\n",
      "the square of 18 is = 324\n",
      "the square of 19 is = 361\n",
      "the square of 20 is = 400\n"
     ]
    }
   ],
   "source": [
    "#Write a program that squares the numbers between 1 and 20\n",
    "#1,2,3,4,5,..20 and their squares are 1,4,9,16,25,..400\n",
    "for number in range(1,21):\n",
    "    square = number*number #number**2\n",
    "    print('the square of', number,'is =', square)"
   ]
  },
  {
   "cell_type": "code",
   "execution_count": 15,
   "id": "d25ef3ff",
   "metadata": {},
   "outputs": [
    {
     "name": "stdout",
     "output_type": "stream",
     "text": [
      "Mango:5\n",
      "orange:6\n",
      "Banana:6\n",
      "Cashew:6\n",
      "Pineapple:9\n",
      "Apple:5\n"
     ]
    }
   ],
   "source": [
    "#loop over the list and print out each item and their length\n",
    "fruits = ['Mango', 'orange', 'Banana', 'Cashew', 'Pineapple', 'Apple']\n",
    "for item in fruits:\n",
    "    print(item, ':', len(item))"
   ]
  },
  {
   "cell_type": "code",
   "execution_count": 20,
   "id": "d9a6f6f5",
   "metadata": {},
   "outputs": [
    {
     "name": "stdout",
     "output_type": "stream",
     "text": [
      "The lenght of the list is 6\n",
      "The fruit at index 0 is Mango of lenght 5\n",
      "The fruit at index 1 is orange of lenght 6\n",
      "The fruit at index 2 is Banana of lenght 6\n",
      "The fruit at index 3 is Cashew of lenght 6\n",
      "The fruit at index 4 is Pineapple of lenght 9\n",
      "The fruit at index 5 is Apple of lenght 5\n"
     ]
    }
   ],
   "source": [
    "#loop over the list and print out each item and their length\n",
    "fruits = ['Mango', 'orange', 'Banana', 'Cashew', 'Pineapple', 'Apple']\n",
    "lenght = len(fruits)\n",
    "print('The lenght of the list is', lenght)\n",
    "for i in range(lenght):\n",
    "    print('The fruit at index', i, 'is', fruits[i], 'of lenght', len(fruits[i]))"
   ]
  },
  {
   "cell_type": "code",
   "execution_count": 24,
   "id": "94b4c894",
   "metadata": {},
   "outputs": [
    {
     "name": "stdout",
     "output_type": "stream",
     "text": [
      "The fruit at index 0 is Mango\n",
      "The fruit at index 1 is orange\n",
      "The fruit at index 2 is Banana\n",
      "The fruit at index 3 is Cashew\n",
      "The fruit at index 4 is Pineapple\n",
      "The fruit at index 5 is Apple\n"
     ]
    }
   ],
   "source": [
    "#loop over the list and print out each item and their length using while loop statement\n",
    "fruits = ['Mango', 'orange', 'Banana', 'Cashew', 'Pineapple', 'Apple']\n",
    "lenght = len(fruits)\n",
    "index = 0\n",
    "while index < lenght:\n",
    "    print('The fruit at index', index, 'is', fruits[index])\n",
    "    index = index + 1"
   ]
  },
  {
   "cell_type": "code",
   "execution_count": null,
   "id": "8afc21af",
   "metadata": {},
   "outputs": [],
   "source": []
  }
 ],
 "metadata": {
  "kernelspec": {
   "display_name": "Python 3",
   "language": "python",
   "name": "python3"
  },
  "language_info": {
   "codemirror_mode": {
    "name": "ipython",
    "version": 3
   },
   "file_extension": ".py",
   "mimetype": "text/x-python",
   "name": "python",
   "nbconvert_exporter": "python",
   "pygments_lexer": "ipython3",
   "version": "3.9.5"
  }
 },
 "nbformat": 4,
 "nbformat_minor": 5
}
