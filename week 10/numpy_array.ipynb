{
 "cells": [
  {
   "cell_type": "code",
   "execution_count": 1,
   "id": "3088dfb2",
   "metadata": {},
   "outputs": [
    {
     "name": "stdout",
     "output_type": "stream",
     "text": [
      "Requirement already satisfied: numpy in c:\\python3.9.5\\lib\\site-packages (1.19.5)\n",
      "Note: you may need to restart the kernel to use updated packages.\n"
     ]
    },
    {
     "name": "stderr",
     "output_type": "stream",
     "text": [
      "WARNING: You are using pip version 22.0.3; however, version 23.1.2 is available.\n",
      "You should consider upgrading via the 'c:\\python3.9.5\\python.exe -m pip install --upgrade pip' command.\n"
     ]
    }
   ],
   "source": [
    "pip install numpy"
   ]
  },
  {
   "cell_type": "code",
   "execution_count": null,
   "id": "1e9db4ca",
   "metadata": {},
   "outputs": [],
   "source": [
    "import numpy as np\n",
    "\n",
    "arr_a = np.array([1,3,4,6])\n",
    "print(type(arr_a))\n",
    "print(arr_a.size)\n",
    "print(arr_a.dtype)\n",
    "\n",
    "print(\"\\n After reshaping\")\n",
    "arr_a = np.reshape(arr_a,(2,2))\n",
    "print('Size =',arr_a.size)\n",
    "print('data type =',arr_a.dtype)\n",
    "print('dimension =',arr_a.ndim)\n",
    "print('shape =',arr_a.shape)\n",
    "print(arr_a)"
   ]
  },
  {
   "cell_type": "code",
   "execution_count": 4,
   "id": "7ff9e160",
   "metadata": {},
   "outputs": [
    {
     "name": "stdout",
     "output_type": "stream",
     "text": [
      "<class 'numpy.ndarray'>\n",
      "Size = 12\n",
      "data type = int32\n",
      "dimension = 2\n",
      "shape = (3, 4)\n",
      "[[ 1  3  4  6]\n",
      " [ 7  8  9 10]\n",
      " [12 34 54 16]]\n",
      "\n",
      " After reshaping\n",
      "Size = 12\n",
      "data type = int32\n",
      "dimension = 2\n",
      "shape = (2, 6)\n",
      "[[ 1  3  4  6  7  8]\n",
      " [ 9 10 12 34 54 16]]\n"
     ]
    }
   ],
   "source": [
    "arr_b = np.array([[1,3,4,6],[7,8,9,10], [12,34,54,16]])\n",
    "print(type(arr_b))\n",
    "print('Size =',arr_b.size)\n",
    "print('data type =',arr_b.dtype)\n",
    "print('dimension =',arr_b.ndim)\n",
    "print('shape =',arr_b.shape)\n",
    "print(arr_b)\n",
    "\n",
    "print(\"\\n After reshaping\")\n",
    "arr_b = arr_b.reshape(2,6)\n",
    "print('Size =',arr_b.size)\n",
    "print('data type =',arr_b.dtype)\n",
    "print('dimension =',arr_b.ndim)\n",
    "print('shape =',arr_b.shape)\n",
    "print(arr_b)"
   ]
  },
  {
   "cell_type": "code",
   "execution_count": 6,
   "id": "3f50dce0",
   "metadata": {},
   "outputs": [
    {
     "name": "stdout",
     "output_type": "stream",
     "text": [
      "[ 2  4  6  8 10 12 14 16 18]\n",
      "[[ 2  4  6]\n",
      " [ 8 10 12]\n",
      " [14 16 18]]\n"
     ]
    }
   ],
   "source": [
    "arr_c = np.arange(2,20,2)\n",
    "print(arr_c)\n",
    "arr_c = arr_c.reshape(3,3)\n",
    "print(arr_c)"
   ]
  },
  {
   "cell_type": "code",
   "execution_count": 8,
   "id": "0a90e953",
   "metadata": {},
   "outputs": [
    {
     "name": "stdout",
     "output_type": "stream",
     "text": [
      "[1. 1. 1. 1. 1. 1. 1. 1.]\n",
      "[0. 0. 0. 0. 0. 0. 0. 0.]\n"
     ]
    }
   ],
   "source": [
    "arr_ones = np.ones(8)\n",
    "print(arr_ones)\n",
    "\n",
    "arr_zeros = np.zeros(8)\n",
    "print(arr_zeros)"
   ]
  },
  {
   "cell_type": "code",
   "execution_count": 14,
   "id": "22aa780c",
   "metadata": {},
   "outputs": [
    {
     "name": "stdout",
     "output_type": "stream",
     "text": [
      "array c\n",
      "[[ 2  4  6]\n",
      " [ 8 10 12]\n",
      " [14 16 18]]\n",
      "array d\n",
      "[[ 6 12 18]\n",
      " [24 30 36]\n",
      " [42 48 54]]\n",
      "array f\n",
      "[[ 4  8 12]\n",
      " [16 20 24]\n",
      " [28 32 36]]\n"
     ]
    }
   ],
   "source": [
    "arr_c = np.arange(2,20,2)\n",
    "arr_c = arr_c.reshape(3,3)\n",
    "print('array c')\n",
    "print(arr_c)\n",
    "arr_d = arr_c*3\n",
    "print('array d')\n",
    "print(arr_d)\n",
    "\n",
    "arr_f = arr_d - arr_c\n",
    "print('array f')\n",
    "print(arr_f)"
   ]
  },
  {
   "cell_type": "code",
   "execution_count": 15,
   "id": "24a10047",
   "metadata": {},
   "outputs": [
    {
     "name": "stdout",
     "output_type": "stream",
     "text": [
      "[10.  12.5 15.  17.5 20. ]\n"
     ]
    }
   ],
   "source": [
    "arr_g = np.linspace(10,20,5)\n",
    "print(arr_g)"
   ]
  },
  {
   "cell_type": "code",
   "execution_count": 4,
   "id": "dfab9d9e",
   "metadata": {},
   "outputs": [
    {
     "name": "stdout",
     "output_type": "stream",
     "text": [
      "[[[0.79364532 0.64523986]\n",
      "  [0.55272621 0.63134368]]\n",
      "\n",
      " [[0.27674017 0.86785357]\n",
      "  [0.03939236 0.18735305]]\n",
      "\n",
      " [[0.07067113 0.56785286]\n",
      "  [0.58693553 0.93482423]]]\n",
      "0.42868916406570123\n"
     ]
    }
   ],
   "source": [
    "arr_h = np.random.rand(3,2,2)\n",
    "print(arr_h)\n",
    "\n",
    "arr_i = np.random.random()\n",
    "print(arr_i)"
   ]
  },
  {
   "cell_type": "code",
   "execution_count": null,
   "id": "0c7a81c5",
   "metadata": {},
   "outputs": [],
   "source": []
  }
 ],
 "metadata": {
  "kernelspec": {
   "display_name": "Python 3",
   "language": "python",
   "name": "python3"
  },
  "language_info": {
   "codemirror_mode": {
    "name": "ipython",
    "version": 3
   },
   "file_extension": ".py",
   "mimetype": "text/x-python",
   "name": "python",
   "nbconvert_exporter": "python",
   "pygments_lexer": "ipython3",
   "version": "3.9.5"
  }
 },
 "nbformat": 4,
 "nbformat_minor": 5
}
