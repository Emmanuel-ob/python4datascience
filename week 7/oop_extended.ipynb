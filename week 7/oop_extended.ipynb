{
 "cells": [
  {
   "cell_type": "code",
   "execution_count": 6,
   "id": "e894c198",
   "metadata": {},
   "outputs": [
    {
     "name": "stdout",
     "output_type": "stream",
     "text": [
      "My name is Sam\n",
      "IdNumber: 537625\n",
      "Post: Software Engineer\n"
     ]
    }
   ],
   "source": [
    "class Person(object):   # parent class\n",
    "    def __init__(self, name, idnumber):\n",
    "        self.name = name\n",
    "        self.idnumber = idnumber\n",
    " \n",
    "    def display(self):\n",
    "        print(self.name)\n",
    "        print(self.idnumber)\n",
    "         \n",
    "    def details(self):\n",
    "        print(\"My name is {}\".format(self.name))\n",
    "        print(\"IdNumber: {}\".format(self.idnumber))\n",
    "        \n",
    "class Employee(Person):   # child class\n",
    "    def __init__(self, name, idnumber, salary, post):\n",
    "        self.salary = salary\n",
    "        self.post = post\n",
    "        Person.__init__(self, name, idnumber)       # invoking the __init__ of the parent class         \n",
    "    def details(self):\n",
    "        print(\"My name is {}\".format(self.name))\n",
    "        print(\"IdNumber: {}\".format(self.idnumber))\n",
    "        print(\"Post: {}\".format(self.post))\n",
    "    def call_parent_details(self):\n",
    "        super().details()\n",
    "\n",
    "a = Employee('Sam', 537625, 300000, \"Software Engineer\")\n",
    "#a.display()\n",
    "a.details()\n",
    "#a.call_parent_details()\n",
    "             \n"
   ]
  },
  {
   "cell_type": "code",
   "execution_count": 10,
   "id": "c4f70aa7",
   "metadata": {},
   "outputs": [
    {
     "name": "stdout",
     "output_type": "stream",
     "text": [
      "Enter the subject of your email:New order\n",
      "Enter the body of your email:send my items\n",
      "Specify what you are attaching: Sample picture\n",
      "Sending email ....\n",
      "Subject: New order\n",
      "Email Body: send my items\n",
      "This has attachements: Sample picture\n",
      "Print Email sent!\n"
     ]
    }
   ],
   "source": [
    "class Email(object):\n",
    "    files = ''\n",
    "    def __init__(self, subject, body):\n",
    "        self.subject = subject\n",
    "        self.body = body\n",
    "    def edit(self, subject, body):\n",
    "        self.subject = subject\n",
    "        self.body = body\n",
    "        return self\n",
    "    def attachFiles(self, files):\n",
    "        self.files = files\n",
    "        return self\n",
    "    def recipient(self, *recipients):\n",
    "        self.recipients = recipients\n",
    "        return self\n",
    "        \n",
    "    def sendMail(self):\n",
    "        print('Sending email ....')\n",
    "        print('Recipients:', self.recipients)\n",
    "        print('Subject:', self.subject)\n",
    "        if(self.body == ''):\n",
    "            print('Your email body is empty')\n",
    "        else:\n",
    "            print('Email Body:', self.body)\n",
    "        if(self.files):\n",
    "            print('This has attachements:', self.files)\n",
    "        \n",
    "        print('Print Email sent!')\n",
    "        \n",
    "#creating an instance and using the object\n",
    "subject = input('Enter the subject of your email: ')\n",
    "body = input('Enter the body of your email: ')\n",
    "receiver = input('Enter mail recipients: ')\n",
    "\n",
    "myMail = Email(subject, body)\n",
    "myMail.recipient(receiver)\n",
    "attachements = input('Specify what you are attaching: ')\n",
    "myMail.attachFiles(attachements)\n",
    "myMail.sendMail()"
   ]
  },
  {
   "cell_type": "code",
   "execution_count": 22,
   "id": "12d80b03",
   "metadata": {},
   "outputs": [
    {
     "name": "stdout",
     "output_type": "stream",
     "text": [
      "50\n"
     ]
    }
   ],
   "source": [
    "class A:\n",
    "   def __init__(self, a):\n",
    "        self.a = a\n",
    "   def __add__(self, o):\n",
    "        return self.a + o.a\n",
    "        \n",
    "obj1 = A(30)\n",
    "obj2 = A(20)\n",
    "\n",
    "obj3 = obj1 + obj2\n",
    "\n",
    "#obj1.__add__(obj2)\n",
    "\n",
    "print(obj3)\n"
   ]
  },
  {
   "cell_type": "code",
   "execution_count": null,
   "id": "1c11d911",
   "metadata": {},
   "outputs": [],
   "source": []
  }
 ],
 "metadata": {
  "kernelspec": {
   "display_name": "Python 3",
   "language": "python",
   "name": "python3"
  },
  "language_info": {
   "codemirror_mode": {
    "name": "ipython",
    "version": 3
   },
   "file_extension": ".py",
   "mimetype": "text/x-python",
   "name": "python",
   "nbconvert_exporter": "python",
   "pygments_lexer": "ipython3",
   "version": "3.9.5"
  }
 },
 "nbformat": 4,
 "nbformat_minor": 5
}
