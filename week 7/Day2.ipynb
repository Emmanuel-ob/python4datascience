{
 "cells": [
  {
   "cell_type": "code",
   "execution_count": 3,
   "id": "51dd2cd8",
   "metadata": {},
   "outputs": [
    {
     "name": "stdout",
     "output_type": "stream",
     "text": [
      "John\n"
     ]
    }
   ],
   "source": [
    "class MyClass(object): \n",
    "    a = \"12\" \n",
    "    b = \"34\"    # class attributes \n",
    "    def __init__(self, c, d):    #constructor\n",
    "         self.c = c \n",
    "         self.d = d           # instance attributes\n",
    "    def output(self):\n",
    "        print(self.c)\n",
    "\n",
    "class NewClass(object): \n",
    "    a = \"12\" \n",
    "    b = \"34\"    # class attributes \n",
    "    def __init__(self):    #constructor\n",
    "         self.c = 'James' \n",
    "         self.d = 'Sunday'          # instance attributes \n",
    "\n",
    "obj = MyClass('John', 'Joan')\n",
    "obj.output()\n",
    "\n",
    "obj1 = NewClass()\n"
   ]
  },
  {
   "cell_type": "code",
   "execution_count": null,
   "id": "1d292501",
   "metadata": {},
   "outputs": [],
   "source": []
  }
 ],
 "metadata": {
  "kernelspec": {
   "display_name": "Python 3",
   "language": "python",
   "name": "python3"
  },
  "language_info": {
   "codemirror_mode": {
    "name": "ipython",
    "version": 3
   },
   "file_extension": ".py",
   "mimetype": "text/x-python",
   "name": "python",
   "nbconvert_exporter": "python",
   "pygments_lexer": "ipython3",
   "version": "3.9.5"
  }
 },
 "nbformat": 4,
 "nbformat_minor": 5
}
