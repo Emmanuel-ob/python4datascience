{
 "cells": [
  {
   "cell_type": "code",
   "execution_count": 16,
   "id": "bee1ca04",
   "metadata": {},
   "outputs": [
    {
     "name": "stdout",
     "output_type": "stream",
     "text": [
      "Requirement already satisfied: html5lib in c:\\python3.9.5\\lib\\site-packages (1.1)\n",
      "Requirement already satisfied: six>=1.9 in c:\\python3.9.5\\lib\\site-packages (from html5lib) (1.15.0)\n",
      "Requirement already satisfied: webencodings in c:\\python3.9.5\\lib\\site-packages (from html5lib) (0.5.1)\n",
      "Note: you may need to restart the kernel to use updated packages.\n"
     ]
    },
    {
     "name": "stderr",
     "output_type": "stream",
     "text": [
      "WARNING: You are using pip version 22.0.3; however, version 23.1.2 is available.\n",
      "You should consider upgrading via the 'c:\\python3.9.5\\python.exe -m pip install --upgrade pip' command.\n"
     ]
    }
   ],
   "source": [
    "!pip install beautifulsoup4 lxml\n",
    "pip install html5lib\n"
   ]
  },
  {
   "cell_type": "code",
   "execution_count": 32,
   "id": "8f8f3fb9",
   "metadata": {},
   "outputs": [],
   "source": [
    "from bs4 import BeautifulSoup\n",
    "import pandas as pd\n",
    "import requests\n",
    "import csv\n",
    "\n",
    "url = 'http://www.values.com/inspirational-quotes'\n",
    "page = requests.get(url)\n",
    "soup = BeautifulSoup(page.content, 'html5lib')\n",
    "#print(soup.prettify())\n",
    "quotes=[]  # a list to store quotes\n",
    "   \n",
    "table = soup.find('div', attrs = {'id':'all_quotes'}) \n",
    "#print(table)  \n",
    "rows = table.findAll('div', attrs = {'class':'col-6 col-lg-4 text-center margin-30px-bottom sm-margin-30px-top'})\n",
    "#print(rows)\n",
    "for row in rows:\n",
    "    quote = {}\n",
    "    quote['theme'] = row.h5.text\n",
    "    quote['url'] = row.a['href']\n",
    "    quote['img'] = row.img['src']\n",
    "    quote['lines'] = row.img['alt'].split(\" #\")[0]\n",
    "    quote['author'] = row.img['alt'].split(\" #\")[1]\n",
    "    quotes.append(quote)\n",
    "    #print(quote) \n",
    "\n",
    "filename = 'inspirational_quotes.csv'\n",
    "with open(filename, 'w', newline='') as f:\n",
    "    w = csv.DictWriter(f,['theme','url','img','lines','author'])\n",
    "    w.writeheader()\n",
    "    for quote in quotes:\n",
    "        w.writerow(quote)"
   ]
  },
  {
   "cell_type": "code",
   "execution_count": null,
   "id": "952d2375",
   "metadata": {},
   "outputs": [],
   "source": []
  },
  {
   "cell_type": "code",
   "execution_count": 34,
   "id": "ec7ea6f9",
   "metadata": {},
   "outputs": [],
   "source": [
    "\n",
    "from bs4 import BeautifulSoup\n",
    "import pandas as pd\n",
    "import requests\n",
    "import csv\n",
    "\n",
    "url = 'https://jiji.ng/'\n",
    "page = requests.get(url)\n",
    "soup = BeautifulSoup(page.content, 'html5lib')\n",
    "#print(soup.prettify())\n",
    "items=[]  # a list to store quotes\n",
    "   \n",
    "table = soup.find('div', attrs = {'class':'h-dflex h-flex-wrap h-mh--7 h-mb--15'}) \n",
    "rows = table.findAll('div', attrs = {'class':'b-listing-cards__item'})\n",
    "#print(rows[0]) \n",
    "df = pd.DataFrame(columns=['title','price','imageCount','imageUrl'])\n",
    "for row in rows:\n",
    "    item = {}\n",
    "    item['title'] = row.find('div', attrs = {'class':'b-trending-card__title'}).text.replace(\"\\n        \", \"\").replace(\"\\n      \", \"\")\n",
    "    item['price'] = row.find('div', attrs = {'class':'b-trending-card__price'}).text.replace(\"\\n        \", \"\").replace(\"\\n      \", \"\")\n",
    "    item['imageCount'] = row.find('div', attrs = {'class':'b-trending-card__counter'}).text.replace(\"\\n        \", \"\").replace(\"\\n      \", \"\")\n",
    "    item['imageUrl'] = row.a['href']\n",
    "                            \n",
    "    df = df.append(item, ignore_index=True)\n",
    "    items.append(item)\n",
    "    #print(item) \n",
    "df.to_csv('jiji_trending_add_items.csv')"
   ]
  },
  {
   "cell_type": "code",
   "execution_count": null,
   "id": "25eaca38",
   "metadata": {},
   "outputs": [],
   "source": []
  }
 ],
 "metadata": {
  "kernelspec": {
   "display_name": "Python 3",
   "language": "python",
   "name": "python3"
  },
  "language_info": {
   "codemirror_mode": {
    "name": "ipython",
    "version": 3
   },
   "file_extension": ".py",
   "mimetype": "text/x-python",
   "name": "python",
   "nbconvert_exporter": "python",
   "pygments_lexer": "ipython3",
   "version": "3.9.5"
  }
 },
 "nbformat": 4,
 "nbformat_minor": 5
}
