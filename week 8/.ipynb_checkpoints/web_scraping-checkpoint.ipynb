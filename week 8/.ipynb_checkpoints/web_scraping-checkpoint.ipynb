{
 "cells": [
  {
   "cell_type": "code",
   "execution_count": 16,
   "id": "f195e535",
   "metadata": {},
   "outputs": [
    {
     "name": "stdout",
     "output_type": "stream",
     "text": [
      "Requirement already satisfied: html5lib in c:\\python3.9.5\\lib\\site-packages (1.1)\n",
      "Requirement already satisfied: six>=1.9 in c:\\python3.9.5\\lib\\site-packages (from html5lib) (1.15.0)\n",
      "Requirement already satisfied: webencodings in c:\\python3.9.5\\lib\\site-packages (from html5lib) (0.5.1)\n",
      "Note: you may need to restart the kernel to use updated packages.\n"
     ]
    },
    {
     "name": "stderr",
     "output_type": "stream",
     "text": [
      "WARNING: You are using pip version 22.0.3; however, version 23.1.2 is available.\n",
      "You should consider upgrading via the 'c:\\python3.9.5\\python.exe -m pip install --upgrade pip' command.\n"
     ]
    }
   ],
   "source": [
    "!pip install beautifulsoup4 lxml\n",
    "pip install html5lib\n"
   ]
  },
  {
   "cell_type": "code",
   "execution_count": 15,
   "id": "aa49e99d",
   "metadata": {},
   "outputs": [
    {
     "name": "stdout",
     "output_type": "stream",
     "text": [
      "{'theme': 'INCLUSION', 'url': '/inspirational-quotes/8384-every-individual-matters-every-individual-has', 'img': 'https://assets.passiton.com/quotes/quote_artwork/8384/medium/20230616_friday_quote.jpg', 'lines': 'Every individual matters. Every individual has a role to play. Every individual makes a difference.', 'author': '<Author:0x00007f4f7dbcb9d8>'}\n",
      "{'theme': 'INCLUSION', 'url': '/inspirational-quotes/7704-being-inclusive-is-having-a-human-connection', 'img': 'https://assets.passiton.com/quotes/quote_artwork/7704/medium/20230615_thursday_quote.jpg', 'lines': 'Being inclusive is having a human connection without placing judgments before it.', 'author': '<Author:0x00007f4f7dbb8658>'}\n",
      "{'theme': 'INCLUSION', 'url': '/inspirational-quotes/8383-strength-lies-in-differences-not-in-similarities', 'img': 'https://assets.passiton.com/quotes/quote_artwork/8383/medium/20230614_wednesday_quote.jpg', 'lines': 'Strength lies in differences, not in similarities.', 'author': '<Author:0x00007f4f7db9b148>'}\n",
      "{'theme': 'INCLUSION', 'url': '/inspirational-quotes/7707-inclusion-works-to-the-advantage-of-everyone', 'img': 'https://assets.passiton.com/quotes/quote_artwork/7707/medium/20230613_tuesday_quote.jpg', 'lines': 'Inclusion works to the advantage of everyone. We all have things to learn and we all have something to teach.', 'author': '<Author:0x00007f4f7dbf1700>'}\n",
      "{'theme': 'INCLUSION', 'url': '/inspirational-quotes/8382-i-believe-that-we-are-here-for-each-other-not', 'img': 'https://assets.passiton.com/quotes/quote_artwork/8382/medium/20230612_monday_quote.jpg', 'lines': 'I believe that we are here for each other, not against each other.', 'author': '<Author:0x00007f4f7dbda078>'}\n",
      "{'theme': 'LIVE YOUR DREAMS', 'url': '/inspirational-quotes/8351-the-biggest-adventure-you-can-take-is-to-live', 'img': 'https://assets.passiton.com/quotes/quote_artwork/8351/medium/20230609_friday_quote.jpg', 'lines': 'The biggest adventure you can take is to live the life of your dreams.', 'author': '<Author:0x00007f4f7dc31e40>'}\n",
      "{'theme': 'LIVE YOUR DREAMS', 'url': '/inspirational-quotes/4137-go-confidently-in-the-direction-of-your-dreams', 'img': 'https://assets.passiton.com/quotes/quote_artwork/4137/medium/20230608_thursday_quote.jpg', 'lines': \"Go confidently in the direction of your dreams! Live the life you've imagined.\", 'author': '<Author:0x00007f4f7dc1a628>'}\n",
      "{'theme': 'LIVE YOUR DREAMS', 'url': '/inspirational-quotes/6906-dont-be-pushed-by-your-problems-be-led-by-your', 'img': 'https://assets.passiton.com/quotes/quote_artwork/6906/medium/20230607_wednesday_quote.jpg', 'lines': \"Don't be pushed by your problems, be led by your dreams.\", 'author': '<Author:0x00007f4f7d50f3d8>'}\n",
      "{'theme': 'LIVE YOUR DREAMS', 'url': '/inspirational-quotes/8223-no-matter-where-you-re-from-your-dreams-are', 'img': 'https://assets.passiton.com/quotes/quote_artwork/8223/medium/20230606_tuesday_quote.jpg', 'lines': 'No matter where you’re from, your dreams are valid.', 'author': '<Author:0x00007f4f7dc5a4d0>'}\n",
      "{'theme': 'LIVE YOUR DREAMS', 'url': '/inspirational-quotes/4386-make-no-small-plans-for-they-have-no-power-to', 'img': 'https://assets.passiton.com/quotes/quote_artwork/4386/medium/20230605_monday_quote.jpg', 'lines': 'Make no small plans for they have no power to stir the soul.', 'author': '<Author:0x00007f4f7dcebed0>'}\n",
      "{'theme': 'APPRECIATION', 'url': '/inspirational-quotes/4298-appreciation-is-a-wonderful-thing-it-makes', 'img': 'https://assets.passiton.com/quotes/quote_artwork/4298/medium/20230602_friday_quote.jpg', 'lines': 'Appreciation is a wonderful thing. It makes what is excellent in others belong to us as well.', 'author': '<Author:0x00007f4f7dcd29f8>'}\n",
      "{'theme': 'APPRECIATION', 'url': '/inspirational-quotes/6601-enjoy-the-little-things-in-life-for-one-day', 'img': 'https://assets.passiton.com/quotes/quote_artwork/6601/medium/20230601_thursday_quote.jpg', 'lines': 'Enjoy the little things in life, for one day you may look back and realize they were the big things.', 'author': '<Author:0x00007f4f7dcb17f8>'}\n",
      "{'theme': 'APPRECIATION', 'url': '/inspirational-quotes/6378-now-is-no-time-to-think-of-what-you-do-not', 'img': 'https://assets.passiton.com/quotes/quote_artwork/6378/medium/20230531_wednesday_quote.jpg', 'lines': 'Now is no time to think of what you do not have. Think of what you can do with what there is. ', 'author': '<Author:0x00007f4f7dd13f48>'}\n",
      "{'theme': 'APPRECIATION', 'url': '/inspirational-quotes/8381-strive-to-find-things-to-be-thankful-for-and', 'img': 'https://assets.passiton.com/quotes/quote_artwork/8381/medium/20230530_tuesday_quote.jpg', 'lines': 'Strive to find things to be thankful for, and just look for the good in who you are.', 'author': '<Author:0x00007f4f7dd007e0>'}\n",
      "{'theme': 'APPRECIATION', 'url': '/inspirational-quotes/7426-as-we-express-our-gratitude-we-must-never', 'img': 'https://assets.passiton.com/quotes/quote_artwork/7426/medium/20230529_monday_quote.jpg', 'lines': 'As we express our gratitude, we must never forget that the highest appreciation is not to utter words, but to live by them.', 'author': '<Author:0x00007f4f7dd838e8>'}\n",
      "{'theme': 'GET OUTSIDE', 'url': '/inspirational-quotes/8224-of-all-the-paths-you-take-in-life-make-sure-a', 'img': 'https://assets.passiton.com/quotes/quote_artwork/8224/medium/20230526_friday_quote.jpg', 'lines': 'Of all the paths you take in life, make sure a few of them are dirt.', 'author': '<Author:0x00007f4f7dd41740>'}\n",
      "{'theme': 'GET OUTSIDE', 'url': '/inspirational-quotes/8380-the-wilderness-holds-answers-to-questions-we', 'img': 'https://assets.passiton.com/quotes/quote_artwork/8380/medium/20230525_thursday_quote.jpg', 'lines': 'The wilderness holds answers to questions we have not yet learned to ask.', 'author': '<Author:0x00007f4f7ddc3f60>'}\n",
      "{'theme': 'GET OUTSIDE', 'url': '/inspirational-quotes/8131-nature-brings-solace-in-all-troubles', 'img': 'https://assets.passiton.com/quotes/quote_artwork/8131/medium/20230524_wednesday_quote.jpg', 'lines': 'Nature brings solace in all troubles.', 'author': '<Author:0x00007f4f7ddb0168>'}\n",
      "{'theme': 'GET OUTSIDE', 'url': '/inspirational-quotes/7511-to-be-whole-to-be-complete-wildness-reminds', 'img': 'https://assets.passiton.com/quotes/quote_artwork/7511/medium/20230523_tuesday_quote.jpg', 'lines': 'To be whole. To be complete. Wildness reminds us what it means to be human, what we are connected to rather than what we are separate from.', 'author': '<Author:0x00007f4f7dd98bd0>'}\n",
      "{'theme': 'GET OUTSIDE', 'url': '/inspirational-quotes/7928-the-world-is-incomprehensibly-beautiful-an', 'img': 'https://assets.passiton.com/quotes/quote_artwork/7928/medium/20230522_monday_quote.jpg', 'lines': 'The world is incomprehensibly beautiful—an endless prospect of magic and wonder.', 'author': '<Author:0x00007f4f7ddf0da8>'}\n",
      "{'theme': 'LOVE', 'url': '/inspirational-quotes/6256-love-and-kindness-are-never-wasted-they-always', 'img': 'https://assets.passiton.com/quotes/quote_artwork/6256/medium/20230519_friday_quote.jpg', 'lines': 'Love and kindness are never wasted. They always make a difference.', 'author': '<Author:0x00007f4f7ddd93b0>'}\n",
      "{'theme': 'LOVE', 'url': '/inspirational-quotes/7221-nobody-has-ever-measured-not-even-poets-how', 'img': 'https://assets.passiton.com/quotes/quote_artwork/7221/medium/20230518_thursday_quote.jpg', 'lines': 'Nobody has ever measured, not even poets, how much the heart can hold.', 'author': '<Author:0x00007f4f7de43030>'}\n",
      "{'theme': 'LOVE', 'url': '/inspirational-quotes/7444-where-there-is-love-there-is-life', 'img': 'https://assets.passiton.com/quotes/quote_artwork/7444/medium/20230517_wednesday_quote.jpg', 'lines': 'Where there is love there is life.', 'author': '<Author:0x00007f4f7de1b9b8>'}\n",
      "{'theme': 'LOVE', 'url': '/inspirational-quotes/8190-the-best-thing-to-hold-onto-in-life-is-each-other', 'img': 'https://assets.passiton.com/quotes/quote_artwork/8190/medium/20230516_tuesday_quote.jpg', 'lines': 'The best thing to hold onto in life is each other.', 'author': '<Author:0x00007f4f7de01b30>'}\n",
      "{'theme': 'LOVE', 'url': '/inspirational-quotes/3420-the-highest-vocation-we-can-have-is-love', 'img': 'https://assets.passiton.com/quotes/quote_artwork/3420/medium/20230515_monday_quote.jpg', 'lines': 'The highest vocation we can have is love.', 'author': '<Author:0x00007f4f7de79518>'}\n",
      "{'theme': 'COMPASSION', 'url': '/inspirational-quotes/8285-use-your-voice-for-kindness-your-ears-for', 'img': 'https://assets.passiton.com/quotes/quote_artwork/8285/medium/20230512_friday_quote.jpg', 'lines': 'Use your voice for kindness, your ears for compassion, your hands for charity, your mind for truth, and your heart for love.', 'author': '<Author:0x00007f4f7de60d38>'}\n",
      "{'theme': 'COMPASSION', 'url': '/inspirational-quotes/8200-there-never-was-any-heart-truly-great-and', 'img': 'https://assets.passiton.com/quotes/quote_artwork/8200/medium/20230511_thursday_quote.jpg', 'lines': 'There never was any heart truly great and generous, that was not also tender and compassionate.', 'author': '<Author:0x00007f4f7dec3758>'}\n",
      "{'theme': 'COMPASSION', 'url': '/inspirational-quotes/4435-if-you-are-going-to-be-compassionate-be', 'img': 'https://assets.passiton.com/quotes/quote_artwork/4435/medium/20230510_wednesday_quote.jpg', 'lines': 'If you are going to be compassionate, be prepared for action!', 'author': '<Author:0x00007f4f7deaa190>'}\n",
      "{'theme': 'COMPASSION', 'url': '/inspirational-quotes/5157-what-do-we-live-for-if-it-is-not-to-make-life', 'img': 'https://assets.passiton.com/quotes/quote_artwork/5157/medium/20230509_tuesday_quote.jpg', 'lines': 'What do we live for; if it is not to make life less difficult for each other?\\n', 'author': '<Author:0x00007f4f7df02778>'}\n",
      "{'theme': 'COMPASSION', 'url': '/inspirational-quotes/4043-compassion-is-the-greatest-form-of-love-humans', 'img': 'https://assets.passiton.com/quotes/quote_artwork/4043/medium/20230508_monday_quote.jpg', 'lines': 'Compassion is the greatest form of love humans have to offer.', 'author': '<Author:0x00007f4f7dee95e8>'}\n",
      "{'theme': 'SELF-CARE', 'url': '/inspirational-quotes/8140-when-you-take-care-of-yourself-you-re-a-better', 'img': 'https://assets.passiton.com/quotes/quote_artwork/8140/medium/20230505_friday_quote.jpg', 'lines': 'When you take care of yourself, you’re a better person for others. When you feel good about yourself, you treat others better. ', 'author': '<Author:0x00007f4f7ded1b50>'}\n",
      "{'theme': 'SELF-CARE', 'url': '/inspirational-quotes/7237-if-your-compassion-does-not-include-yourself', 'img': 'https://assets.passiton.com/quotes/quote_artwork/7237/medium/20230504_thursday_quote.jpg', 'lines': 'If your compassion does not include yourself, it is incomplete.', 'author': '<Author:0x00007f4f7df30d08>'}\n",
      "{'theme': 'SELF-CARE', 'url': '/inspirational-quotes/6899-adopt-the-pace-of-nature-her-secret-is-patience', 'img': 'https://assets.passiton.com/quotes/quote_artwork/6899/medium/20230503_wednesday_quote.jpg', 'lines': 'Adopt the pace of nature: her secret is patience.', 'author': '<Author:0x00007f4f7df1a878>'}\n"
     ]
    }
   ],
   "source": [
    "from bs4 import BeautifulSoup\n",
    "import pandas as pd\n",
    "import requests\n",
    "import csv\n",
    "\n",
    "url = 'http://www.values.com/inspirational-quotes'\n",
    "page = requests.get(url)\n",
    "soup = BeautifulSoup(page.content, 'html5lib')\n",
    "#print(soup.prettify())\n",
    "quotes=[]  # a list to store quotes\n",
    "   \n",
    "table = soup.find('div', attrs = {'id':'all_quotes'}) \n",
    "#print(table)  \n",
    "rows = table.findAll('div', attrs = {'class':'col-6 col-lg-4 text-center margin-30px-bottom sm-margin-30px-top'})\n",
    "#print(rows)\n",
    "for row in rows:\n",
    "    quote = {}\n",
    "    quote['theme'] = row.h5.text\n",
    "    quote['url'] = row.a['href']\n",
    "    quote['img'] = row.img['src']\n",
    "    quote['lines'] = row.img['alt'].split(\" #\")[0]\n",
    "    quote['author'] = row.img['alt'].split(\" #\")[1]\n",
    "    quotes.append(quote)\n",
    "    print(quote) \n",
    "\n",
    "filename = 'inspirational_quotes.csv'\n",
    "with open(filename, 'w', newline='') as f:\n",
    "    w = csv.DictWriter(f,['theme','url','img','lines','author'])\n",
    "    w.writeheader()\n",
    "    for quote in quotes:\n",
    "        w.writerow(quote)"
   ]
  },
  {
   "cell_type": "code",
   "execution_count": null,
   "id": "9a089819",
   "metadata": {},
   "outputs": [],
   "source": []
  },
  {
   "cell_type": "code",
   "execution_count": 26,
   "id": "17eca1e4",
   "metadata": {},
   "outputs": [
    {
     "name": "stdout",
     "output_type": "stream",
     "text": [
      "{'title': '\\n        Lexus ES 2015 Black\\n      ', 'price': '\\n        ₦ 4,950,000\\n      ', 'imageCount': '\\n        9\\n      ', 'imageUrl': 'https://jiji.ng/surulere/cars/lexus-es-2015-black-jOlqAZUEiiYiNCiP0od4Hs3L.html'}\n",
      "{'title': '\\n        Mercedes-Benz C300 2008 Black\\n      ', 'price': '\\n        ₦ 1,900,000\\n      ', 'imageCount': '\\n        10\\n      ', 'imageUrl': 'https://jiji.ng/gwarinpa/cars/mercedes-benz-c300-2008-black-3WQVBf0OP1UcJa1mXW5uagdb.html'}\n",
      "{'title': '\\n        Toyota Camry 2018 Silver\\n      ', 'price': '\\n        ₦ 8,800,000\\n      ', 'imageCount': '\\n        6\\n      ', 'imageUrl': 'https://jiji.ng/ojota/cars/toyota-camry-2018-silver-zw0u0ttCSL3N0AjDJmQafous.html'}\n",
      "{'title': '\\n        Toyota Camry 2009 Black\\n      ', 'price': '\\n        ₦ 1,850,000\\n      ', 'imageCount': '\\n        6\\n      ', 'imageUrl': 'https://jiji.ng/agboyi-ketu/cars/toyota-camry-2009-black-k0BsuayyVQ7LYIzuJy4qKyB6.html'}\n",
      "{'title': '\\n        Honda Accord Crosstour 2010 Red\\n      ', 'price': '\\n        ₦ 1,970,000\\n      ', 'imageCount': '\\n        8\\n      ', 'imageUrl': 'https://jiji.ng/ikorodu/cars/honda-accord-crosstour-2010-red-aPocf6h48bzTgtLac10yYd4.html'}\n",
      "{'title': '\\n        Lexus RX 330 2005 Silver\\n      ', 'price': '\\n        ₦ 2,850,000\\n      ', 'imageCount': '\\n        9\\n      ', 'imageUrl': 'https://jiji.ng/ajah/cars/lexus-rx-330-2005-silver-rYDHFJdxarOirRgCt5lvzRQM.html'}\n",
      "{'title': '\\n        Mercedes-Benz GLE-Class 2016 Silver\\n      ', 'price': '\\n        ₦ 18,250,000\\n      ', 'imageCount': '\\n        10\\n      ', 'imageUrl': 'https://jiji.ng/lekki/cars/mercedes-benz-gle-class-2016-silver-oTNs0itGvqXD9uOmNxZYeQTR.html'}\n",
      "{'title': '\\n        Mercedes-Benz C300 2010 Black\\n      ', 'price': '\\n        ₦ 2,500,000\\n      ', 'imageCount': '\\n        7\\n      ', 'imageUrl': 'https://jiji.ng/port-harcourt/cars/mercedes-benz-c300-2010-black-dKZCn0rwSyyAsW4dNx6psAnb.html'}\n",
      "{'title': '\\n        Mercedes-Benz C300 2015 Black\\n      ', 'price': '\\n        ₦ 9,000,000\\n      ', 'imageCount': '\\n        7\\n      ', 'imageUrl': 'https://jiji.ng/lekki/cars/mercedes-benz-c300-2015-black-dhS9MgpJxD4jTRhShS3kg4pO.html'}\n",
      "{'title': '\\n        Land Rover Range Rover Sport Supercharged Dynamic 2019 Gray\\n      ', 'price': '\\n        ₦ 58,500,000\\n      ', 'imageCount': '\\n        10\\n      ', 'imageUrl': 'https://jiji.ng/lekki/cars/land-rover-range-rover-sport-supercharged-dynamic-2019-gray-r4MpaWQ2jX3rmi9qgLGOEK1j.html'}\n",
      "{'title': '\\n        Honda Element 2003 Silver\\n      ', 'price': '\\n        ₦ 1,100,000\\n      ', 'imageCount': '\\n        10\\n      ', 'imageUrl': 'https://jiji.ng/ojodu/cars/honda-element-2003-silver-dyekSg0QMFAgDCMJZ8nTMksu.html'}\n",
      "{'title': '\\n        Land Rover Lr4 V8 2011 Green\\n      ', 'price': '\\n        ₦ 3,250,000\\n      ', 'imageCount': '\\n        10\\n      ', 'imageUrl': 'https://jiji.ng/ikorodu/cars/land-rover-lr4-v8-2011-green-A6SUs5AYWQqgM7SVLLc87xof.html'}\n",
      "{'title': '\\n        Honda City 2008 Gold\\n      ', 'price': '\\n        ₦ 1,300,000\\n      ', 'imageCount': '\\n        7\\n      ', 'imageUrl': 'https://jiji.ng/lokogoma/cars/honda-city-2008-gold-1twYBYrZZ3Cq578EjNIjTyQr.html'}\n",
      "{'title': '\\n        Toyota Camry 2010 Silver\\n      ', 'price': '\\n        ₦ 3,650,000\\n      ', 'imageCount': '\\n        10\\n      ', 'imageUrl': 'https://jiji.ng/ikeja/cars/toyota-camry-2010-silver-pIBVTcXmHhvVqANojDcj3Usg.html'}\n",
      "{'title': '\\n        Toyota RAV4 3.5 2008 Black\\n      ', 'price': '\\n        ₦ 2,250,000\\n      ', 'imageCount': '\\n        9\\n      ', 'imageUrl': 'https://jiji.ng/ajah/cars/toyota-rav4-3-5-2008-black-mfgglUJ9KCduh0EbDu46EfJF.html'}\n",
      "{'title': '\\n        Honda Accord 2009 Gray\\n      ', 'price': '\\n        ₦ 2,000,000\\n      ', 'imageCount': '\\n        8\\n      ', 'imageUrl': 'https://jiji.ng/gbagada/cars/honda-accord-2009-gray-wvpsUHPgDwYHYT5y5zO1MjvS.html'}\n",
      "{'title': '\\n        Chevrolet Aveo 1.4 Automatic 2012 Silver\\n      ', 'price': '\\n        ₦ 1,200,000\\n      ', 'imageCount': '\\n        10\\n      ', 'imageUrl': 'https://jiji.ng/ilorin-south/cars/chevrolet-aveo-1-4-automatic-2012-silver-5JuPtQAH6TtHXl8UcJ1w6E1V.html'}\n",
      "{'title': '\\n        Mercedes-Benz CLA-Class Base CLA 250 FWD 2016 Red\\n      ', 'price': '\\n        ₦ 8,800,000\\n      ', 'imageCount': '\\n        9\\n      ', 'imageUrl': 'https://jiji.ng/surulere/cars/mercedes-benz-cla-class-base-cla-250-fwd-2016-red-crfS4yFzbjHgyPO6ApMT3mLR.html'}\n",
      "{'title': '\\n        Toyota Land Cruiser Prado 2.7 i 16V 2005 Black\\n      ', 'price': '\\n        ₦ 3,680,000\\n      ', 'imageCount': '\\n        10\\n      ', 'imageUrl': 'https://jiji.ng/ajah/cars/toyota-land-cruiser-prado-2-7-i-16v-2005-black-wiojdSmZougr9BKdnIthttYs.html'}\n",
      "{'title': '\\n        Honda Accord 2014 Black\\n      ', 'price': '\\n        ₦ 4,650,000\\n      ', 'imageCount': '\\n        9\\n      ', 'imageUrl': 'https://jiji.ng/wuse-ii/cars/honda-accord-2014-black-2Vhkp4uIPRF9nD8yjACC8S2R.html'}\n",
      "{'title': '\\n        Lexus IS 2008 Red\\n      ', 'price': '\\n        ₦ 3,100,000\\n      ', 'imageCount': '\\n        5\\n      ', 'imageUrl': 'https://jiji.ng/oredo/cars/lexus-is-2008-red-8bDfx8P68gixeXDYZomsFUx6.html'}\n",
      "{'title': '\\n        Lexus RX 350 2010 Black\\n      ', 'price': '\\n        ₦ 8,500,000\\n      ', 'imageCount': '\\n        6\\n      ', 'imageUrl': 'https://jiji.ng/amuwo-odofin/cars/lexus-rx-350-2010-black-XMLRtgQltMg4d6CNlVYzSdd.html'}\n",
      "{'title': '\\n        Apple iPhone X 64 GB Black\\n      ', 'price': '\\n        ₦ 95,000\\n      ', 'imageCount': '\\n        4\\n      ', 'imageUrl': 'https://jiji.ng/surulere/mobile-phones/apple-iphone-x-64-gb-black-hzara8YnkNY4iUhETWo0RkV3.html'}\n",
      "{'title': '\\n        New Apple iPhone 13 Mini 256 GB\\n      ', 'price': '\\n        ₦ 240,000\\n      ', 'imageCount': '\\n        2\\n      ', 'imageUrl': 'https://jiji.ng/ikeja/mobile-phones/new-apple-iphone-13-mini-256-gb-6y9Va94UhcpBEyx5ddwDXlq4.html'}\n",
      "{'title': '\\n        Apple iPhone X 64 GB White\\n      ', 'price': '\\n        ₦ 98,000\\n      ', 'imageCount': '\\n        5\\n      ', 'imageUrl': 'https://jiji.ng/alimosho/mobile-phones/apple-iphone-x-64-gb-white-bc8y8gfaYSr30yMDFknRsSdl.html'}\n",
      "{'title': '\\n        Xiaomi Redmi Note 12 128 GB Black\\n      ', 'price': '\\n        ₦ 60,000\\n      ', 'imageCount': '\\n        3\\n      ', 'imageUrl': 'https://jiji.ng/ibadan/mobile-phones/xiaomi-redmi-note-12-128-gb-black-ir1h4vaCOCQKOHmEGlAHLfby.html'}\n",
      "{'title': '\\n        Apple iPhone 11 64 GB Yellow\\n      ', 'price': '\\n        ₦ 120,000\\n      ', 'imageCount': '\\n        3\\n      ', 'imageUrl': 'https://jiji.ng/ikeja/mobile-phones/apple-iphone-11-64-gb-yellow-s7HuzalQbYQd013CbEtNq3nA.html'}\n",
      "{'title': '\\n        Samsung Galaxy A80 128 GB Gold\\n      ', 'price': '\\n        ₦ 80,000\\n      ', 'imageCount': '\\n        5\\n      ', 'imageUrl': 'https://jiji.ng/chikun/mobile-phones/samsung-galaxy-a80-128-gb-gold-klVO0wjqcEZcfhdoNcjGGD7I.html'}\n",
      "{'title': '\\n        Sony Xperia 10 II 128 GB Blue\\n      ', 'price': '\\n        ₦ 80,000\\n      ', 'imageCount': '\\n        2\\n      ', 'imageUrl': 'https://jiji.ng/ikeja/mobile-phones/sony-xperia-10-ii-128-gb-blue-heOA9t1MB6c7YwECcFQnkv7e.html'}\n",
      "{'title': '\\n        Apple iPhone XS Max 256 GB Black\\n      ', 'price': '\\n        ₦ 175,000\\n      ', 'imageCount': '\\n        2\\n      ', 'imageUrl': 'https://jiji.ng/ikeja/mobile-phones/apple-iphone-xs-max-256-gb-black-Ba8O7XqkSNjwHPoIUL0fx5vO.html'}\n",
      "{'title': '\\n        Apple iPhone X 64 GB Black\\n      ', 'price': '\\n        ₦ 60,000\\n      ', 'imageCount': '\\n        2\\n      ', 'imageUrl': 'https://jiji.ng/port-harcourt/mobile-phones/apple-iphone-x-64-gb-black-ld1awRA9YuuJc9hOkY1DIQlC.html'}\n",
      "{'title': '\\n        Apple iPhone X 64 GB White\\n      ', 'price': '\\n        ₦ 100,000\\n      ', 'imageCount': '\\n        4\\n      ', 'imageUrl': 'https://jiji.ng/ife/mobile-phones/apple-iphone-x-64-gb-white-m8EfVl8EUroXWuyX8WAA0aaI.html'}\n",
      "{'title': '\\n        Itel P40+ 128 GB\\n      ', 'price': '\\n        ₦ 80,000\\n      ', 'imageCount': '\\n        8\\n      ', 'imageUrl': 'https://jiji.ng/uyo/mobile-phones/itel-p40-128-gb-hbG7iowILw9NpJy3QX5nFUTp.html'}\n",
      "{'title': '\\n        Tecno Spark 10 Pro 256 GB Blue\\n      ', 'price': '\\n        ₦ 110,000\\n      ', 'imageCount': '\\n        2\\n      ', 'imageUrl': 'https://jiji.ng/uyo/mobile-phones/tecno-spark-10-pro-256-gb-blue-dCzvcdlOH60SoW1diLbesYP7.html'}\n",
      "{'title': '\\n        Apple iPhone 6s Plus 32 GB Silver\\n      ', 'price': '\\n        ₦ 38,000\\n      ', 'imageCount': '\\n        2\\n      ', 'imageUrl': 'https://jiji.ng/ibadan/mobile-phones/apple-iphone-6s-plus-32-gb-silver-oWyFeKzXUO6yPn2aDFfEGAAj.html'}\n",
      "{'title': '\\n        Xiaomi Redmi Note 11 128 GB White\\n      ', 'price': '\\n        ₦ 105,000\\n      ', 'imageCount': '\\n        4\\n      ', 'imageUrl': 'https://jiji.ng/kaduna-north/mobile-phones/xiaomi-redmi-note-11-128-gb-white-yx5C8sJ5IACyi61rjWEf9ucP.html'}\n",
      "{'title': '\\n        Samsung Galaxy A02 32 GB Black\\n      ', 'price': '\\n        ₦ 38,000\\n      ', 'imageCount': '\\n        4\\n      ', 'imageUrl': 'https://jiji.ng/akungba/mobile-phones/samsung-galaxy-a02-32-gb-black-pCnvOwqSCP9c9IN6VHmprDo1.html'}\n",
      "{'title': '\\n        Google Pixel 5a 5G 128 GB\\n      ', 'price': '\\n        ₦ 139,000\\n      ', 'imageCount': '\\n        4\\n      ', 'imageUrl': 'https://jiji.ng/wuse-ii/mobile-phones/google-pixel-5a-5g-128-gb-pItLge5QSDv2BJXwDnTFBxVq.html'}\n",
      "{'title': '\\n        Apple iPhone 12 Pro Max 128 GB Gray\\n      ', 'price': '\\n        ₦ 250,000\\n      ', 'imageCount': '\\n        4\\n      ', 'imageUrl': 'https://jiji.ng/ikeja/mobile-phones/apple-iphone-12-pro-max-128-gb-gray-3hYAcHIIWe7xv8Y0eNqTzLZI.html'}\n",
      "{'title': '\\n        Samsung Galaxy C9 Pro 64 GB Gold\\n      ', 'price': '\\n        ₦ 60,000\\n      ', 'imageCount': '\\n        7\\n      ', 'imageUrl': 'https://jiji.ng/ikeja/mobile-phones/samsung-galaxy-c9-pro-64-gb-gold-uRQQXpeI3Me3g23y1Tg2PgED.html'}\n",
      "{'title': '\\n        Xiaomi Redmi 9C 128 GB Gray\\n      ', 'price': '\\n        ₦ 65,000\\n      ', 'imageCount': '\\n        11\\n      ', 'imageUrl': 'https://jiji.ng/ibadan/mobile-phones/xiaomi-redmi-9c-128-gb-gray-utVaIlccOQtraXzEee0wgIq5.html'}\n",
      "{'title': '\\n        Apple iPhone 8 Plus 64 GB Red\\n      ', 'price': '\\n        ₦ 80,000\\n      ', 'imageCount': '\\n        3\\n      ', 'imageUrl': 'https://jiji.ng/owerri-municipal/mobile-phones/apple-iphone-8-plus-64-gb-red-kGt3qxE7vXyJciSkbBpN6ncj.html'}\n",
      "{'title': '\\n        Apple iPhone X 256 GB Black\\n      ', 'price': '\\n        ₦ 135,000\\n      ', 'imageCount': '\\n        3\\n      ', 'imageUrl': 'https://jiji.ng/oredo/mobile-phones/apple-iphone-x-256-gb-black-q9KaJyqW2NisPb1XSRE85GtO.html'}\n",
      "{'title': '\\n        Samsung Galaxy S9 64 GB Purple\\n      ', 'price': '\\n        ₦ 72,000\\n      ', 'imageCount': '\\n        2\\n      ', 'imageUrl': 'https://jiji.ng/ilorin-west/mobile-phones/samsung-galaxy-s9-64-gb-purple-noUhd3dKsiQ7ClLF6RProfAw.html'}\n",
      "{'title': '\\n        Furnished 1bdrm Bungalow in Igando / Ikotun/Igando for rent\\n      ', 'price': '\\n        ₦ 160,000 per annum\\n      ', 'imageCount': '\\n        5\\n      ', 'imageUrl': 'https://jiji.ng/igando/houses-apartments-for-rent/furnished-1bdrm-bungalow-in-igando-ikotun-igando-for-rent-ayjtEDOI4KKvBtVYNFAjSVAd.html'}\n",
      "{'title': '\\n        2bdrm Apartment in Benin City for rent\\n      ', 'price': '\\n        ₦ 400,000 per annum\\n      ', 'imageCount': '\\n        7\\n      ', 'imageUrl': 'https://jiji.ng/oredo/houses-apartments-for-rent/2bdrm-apartment-in-benin-city-for-rent-3S1FASbj7xLZF4gOt6ZS1OWk.html'}\n",
      "{'title': '\\n        1bdrm Room & Parlour in Obafemi-Owode for rent\\n      ', 'price': '\\n        ₦ 200,000 per annum\\n      ', 'imageCount': '\\n        8\\n      ', 'imageUrl': 'https://jiji.ng/obafemi-owode/houses-apartments-for-rent/1bdrm-room-parlour-in-obafemi-owode-for-rent-uwLMAl308ZIqmPGoCJwDCxEw.html'}\n",
      "{'title': '\\n        1bdrm Apartment in Benin City for rent\\n      ', 'price': '\\n        ₦ 180,000 per annum\\n      ', 'imageCount': '\\n        7\\n      ', 'imageUrl': 'https://jiji.ng/oredo/houses-apartments-for-rent/1bdrm-apartment-in-benin-city-for-rent-n8bOTUouh09R53telp1qkcvi.html'}\n",
      "{'title': '\\n        Furnished 1bdrm Room & Parlour in Benin City for rent\\n      ', 'price': '\\n        ₦ 250,000 per annum\\n      ', 'imageCount': '\\n        6\\n      ', 'imageUrl': 'https://jiji.ng/oredo/houses-apartments-for-rent/furnished-1bdrm-room-parlour-in-benin-city-for-rent-vXVxyw5crQua4o9iXiD1dsyu.html'}\n",
      "{'title': '\\n        2bdrm Apartment in United Estate, Sangotedo for rent\\n      ', 'price': '\\n        ₦ 800,000 per annum\\n      ', 'imageCount': '\\n        15\\n      ', 'imageUrl': 'https://jiji.ng/sangotedo/houses-apartments-for-rent/2bdrm-apartment-in-united-estate-sangotedo-for-rent-BJfmLVcPf3B6UyvfiKSGtpkJ.html'}\n",
      "{'title': '\\n        2bdrm Apartment in Fruitful Estate for rent\\n      ', 'price': '\\n        ₦ 500,000 per annum\\n      ', 'imageCount': '\\n        13\\n      ', 'imageUrl': 'https://jiji.ng/igbogbo/houses-apartments-for-rent/2bdrm-apartment-in-fruitful-estate-for-rent-zWmLXs0A9Jb9WrU2mzuaf7lN.html'}\n",
      "{'title': '\\n        Furnished Studio Apartment in Adebisi Taiwo, Aguda / Surulere for rent\\n      ', 'price': '\\n        ₦ 300,000 per annum\\n      ', 'imageCount': '\\n        7\\n      ', 'imageUrl': 'https://jiji.ng/aguda/houses-apartments-for-rent/furnished-studio-apartment-in-adebisi-taiwo-aguda-surulere-for-rent-6qUHbHEOpclTziqXJiX81961.html'}\n",
      "{'title': '\\n        Furnished 2bdrm Apartment in Command, Ipaja for rent\\n      ', 'price': '\\n        ₦ 800,000 per annum\\n      ', 'imageCount': '\\n        6\\n      ', 'imageUrl': 'https://jiji.ng/ayobo-ipaja/houses-apartments-for-rent/furnished-2bdrm-apartment-in-command-ipaja-for-rent-uiXuVknPfSYWhY3aIc4MWIjD.html'}\n",
      "{'title': '\\n        2bdrm Apartment in Benin City for rent\\n      ', 'price': '\\n        ₦ 400,000 per annum\\n      ', 'imageCount': '\\n        12\\n      ', 'imageUrl': 'https://jiji.ng/oredo/houses-apartments-for-rent/2bdrm-apartment-in-benin-city-for-rent-B16MLpMnQMcsQxk3JDdd1SM.html'}\n",
      "{'title': '\\n        9bdrm Bungalow in Owerri for rent\\n      ', 'price': '\\n        ₦ 10,000 per annum\\n      ', 'imageCount': '\\n        11\\n      ', 'imageUrl': 'https://jiji.ng/owerri-municipal/houses-apartments-for-rent/9bdrm-bungalow-in-owerri-for-rent-zdRUunKpJrnV3zeJCglbYShj.html'}\n",
      "{'title': '\\n        Furnished 1bdrm Shared Apartment in Alimosho for rent\\n      ', 'price': '\\n        ₦ 250,000 per annum\\n      ', 'imageCount': '\\n        7\\n      ', 'imageUrl': 'https://jiji.ng/alimosho/houses-apartments-for-rent/furnished-1bdrm-shared-apartment-in-alimosho-for-rent-vb1LES1mbQCcY72yXZNa7FCi.html'}\n",
      "{'title': '\\n        Studio Apartment in Lokogoma for rent\\n      ', 'price': '\\n        ₦ 400,000 per annum\\n      ', 'imageCount': '\\n        6\\n      ', 'imageUrl': 'https://jiji.ng/lokogoma/houses-apartments-for-rent/studio-apartment-in-lokogoma-for-rent-p0G4GRIyWHIxALCGdbg0C1jD.html'}\n",
      "{'title': '\\n        Furnished 2bdrm Apartment in Abule Egba for rent\\n      ', 'price': '\\n        ₦ 450,000 per annum\\n      ', 'imageCount': '\\n        9\\n      ', 'imageUrl': 'https://jiji.ng/lagos-abule-egba/houses-apartments-for-rent/furnished-2bdrm-apartment-in-abule-egba-for-rent-xBa6tuUNUrLMnRnJs39UiagI.html'}\n",
      "{'title': '\\n        Furnished Mini Flat in Ikotun/Igando for rent\\n      ', 'price': '\\n        ₦ 130,000 per annum\\n      ', 'imageCount': '\\n        5\\n      ', 'imageUrl': 'https://jiji.ng/igando-ikotun/houses-apartments-for-rent/furnished-mini-flat-in-ikotun-igando-for-rent-pphkiAkmKRcAFqdxrONYdOk8.html'}\n",
      "{'title': '\\n        1bdrm Duplex in Orchid, Lekki for rent\\n      ', 'price': '\\n        ₦ 900,000 per annum\\n      ', 'imageCount': '\\n        5\\n      ', 'imageUrl': 'https://jiji.ng/lekki/houses-apartments-for-rent/1bdrm-duplex-in-orchid-lekki-for-rent-yq5wDAeElPRpoXdmf4Mk6D3v.html'}\n"
     ]
    },
    {
     "ename": "UnicodeEncodeError",
     "evalue": "'charmap' codec can't encode character '\\u20a6' in position 48: character maps to <undefined>",
     "output_type": "error",
     "traceback": [
      "\u001b[1;31m---------------------------------------------------------------------------\u001b[0m",
      "\u001b[1;31mUnicodeEncodeError\u001b[0m                        Traceback (most recent call last)",
      "\u001b[1;32m<ipython-input-26-349b16dcab10>\u001b[0m in \u001b[0;36m<module>\u001b[1;34m\u001b[0m\n\u001b[0;32m     28\u001b[0m     \u001b[0mw\u001b[0m\u001b[1;33m.\u001b[0m\u001b[0mwriteheader\u001b[0m\u001b[1;33m(\u001b[0m\u001b[1;33m)\u001b[0m\u001b[1;33m\u001b[0m\u001b[1;33m\u001b[0m\u001b[0m\n\u001b[0;32m     29\u001b[0m     \u001b[1;32mfor\u001b[0m \u001b[0mitem\u001b[0m \u001b[1;32min\u001b[0m \u001b[0mitems\u001b[0m\u001b[1;33m:\u001b[0m\u001b[1;33m\u001b[0m\u001b[1;33m\u001b[0m\u001b[0m\n\u001b[1;32m---> 30\u001b[1;33m         \u001b[0mw\u001b[0m\u001b[1;33m.\u001b[0m\u001b[0mwriterow\u001b[0m\u001b[1;33m(\u001b[0m\u001b[0mitem\u001b[0m\u001b[1;33m)\u001b[0m\u001b[1;33m\u001b[0m\u001b[1;33m\u001b[0m\u001b[0m\n\u001b[0m",
      "\u001b[1;32mc:\\python3.9.5\\lib\\csv.py\u001b[0m in \u001b[0;36mwriterow\u001b[1;34m(self, rowdict)\u001b[0m\n\u001b[0;32m    152\u001b[0m \u001b[1;33m\u001b[0m\u001b[0m\n\u001b[0;32m    153\u001b[0m     \u001b[1;32mdef\u001b[0m \u001b[0mwriterow\u001b[0m\u001b[1;33m(\u001b[0m\u001b[0mself\u001b[0m\u001b[1;33m,\u001b[0m \u001b[0mrowdict\u001b[0m\u001b[1;33m)\u001b[0m\u001b[1;33m:\u001b[0m\u001b[1;33m\u001b[0m\u001b[1;33m\u001b[0m\u001b[0m\n\u001b[1;32m--> 154\u001b[1;33m         \u001b[1;32mreturn\u001b[0m \u001b[0mself\u001b[0m\u001b[1;33m.\u001b[0m\u001b[0mwriter\u001b[0m\u001b[1;33m.\u001b[0m\u001b[0mwriterow\u001b[0m\u001b[1;33m(\u001b[0m\u001b[0mself\u001b[0m\u001b[1;33m.\u001b[0m\u001b[0m_dict_to_list\u001b[0m\u001b[1;33m(\u001b[0m\u001b[0mrowdict\u001b[0m\u001b[1;33m)\u001b[0m\u001b[1;33m)\u001b[0m\u001b[1;33m\u001b[0m\u001b[1;33m\u001b[0m\u001b[0m\n\u001b[0m\u001b[0;32m    155\u001b[0m \u001b[1;33m\u001b[0m\u001b[0m\n\u001b[0;32m    156\u001b[0m     \u001b[1;32mdef\u001b[0m \u001b[0mwriterows\u001b[0m\u001b[1;33m(\u001b[0m\u001b[0mself\u001b[0m\u001b[1;33m,\u001b[0m \u001b[0mrowdicts\u001b[0m\u001b[1;33m)\u001b[0m\u001b[1;33m:\u001b[0m\u001b[1;33m\u001b[0m\u001b[1;33m\u001b[0m\u001b[0m\n",
      "\u001b[1;32mc:\\python3.9.5\\lib\\encodings\\cp1252.py\u001b[0m in \u001b[0;36mencode\u001b[1;34m(self, input, final)\u001b[0m\n\u001b[0;32m     17\u001b[0m \u001b[1;32mclass\u001b[0m \u001b[0mIncrementalEncoder\u001b[0m\u001b[1;33m(\u001b[0m\u001b[0mcodecs\u001b[0m\u001b[1;33m.\u001b[0m\u001b[0mIncrementalEncoder\u001b[0m\u001b[1;33m)\u001b[0m\u001b[1;33m:\u001b[0m\u001b[1;33m\u001b[0m\u001b[1;33m\u001b[0m\u001b[0m\n\u001b[0;32m     18\u001b[0m     \u001b[1;32mdef\u001b[0m \u001b[0mencode\u001b[0m\u001b[1;33m(\u001b[0m\u001b[0mself\u001b[0m\u001b[1;33m,\u001b[0m \u001b[0minput\u001b[0m\u001b[1;33m,\u001b[0m \u001b[0mfinal\u001b[0m\u001b[1;33m=\u001b[0m\u001b[1;32mFalse\u001b[0m\u001b[1;33m)\u001b[0m\u001b[1;33m:\u001b[0m\u001b[1;33m\u001b[0m\u001b[1;33m\u001b[0m\u001b[0m\n\u001b[1;32m---> 19\u001b[1;33m         \u001b[1;32mreturn\u001b[0m \u001b[0mcodecs\u001b[0m\u001b[1;33m.\u001b[0m\u001b[0mcharmap_encode\u001b[0m\u001b[1;33m(\u001b[0m\u001b[0minput\u001b[0m\u001b[1;33m,\u001b[0m\u001b[0mself\u001b[0m\u001b[1;33m.\u001b[0m\u001b[0merrors\u001b[0m\u001b[1;33m,\u001b[0m\u001b[0mencoding_table\u001b[0m\u001b[1;33m)\u001b[0m\u001b[1;33m[\u001b[0m\u001b[1;36m0\u001b[0m\u001b[1;33m]\u001b[0m\u001b[1;33m\u001b[0m\u001b[1;33m\u001b[0m\u001b[0m\n\u001b[0m\u001b[0;32m     20\u001b[0m \u001b[1;33m\u001b[0m\u001b[0m\n\u001b[0;32m     21\u001b[0m \u001b[1;32mclass\u001b[0m \u001b[0mIncrementalDecoder\u001b[0m\u001b[1;33m(\u001b[0m\u001b[0mcodecs\u001b[0m\u001b[1;33m.\u001b[0m\u001b[0mIncrementalDecoder\u001b[0m\u001b[1;33m)\u001b[0m\u001b[1;33m:\u001b[0m\u001b[1;33m\u001b[0m\u001b[1;33m\u001b[0m\u001b[0m\n",
      "\u001b[1;31mUnicodeEncodeError\u001b[0m: 'charmap' codec can't encode character '\\u20a6' in position 48: character maps to <undefined>"
     ]
    }
   ],
   "source": [
    "\n",
    "from bs4 import BeautifulSoup\n",
    "import pandas as pd\n",
    "import requests\n",
    "import csv\n",
    "\n",
    "url = 'https://jiji.ng/'\n",
    "page = requests.get(url)\n",
    "soup = BeautifulSoup(page.content, 'html5lib')\n",
    "#print(soup.prettify())\n",
    "items=[]  # a list to store quotes\n",
    "   \n",
    "table = soup.find('div', attrs = {'class':'h-dflex h-flex-wrap h-mh--7 h-mb--15'}) \n",
    "rows = table.findAll('div', attrs = {'class':'b-listing-cards__item'})\n",
    "#print(rows[0]) \n",
    "df = pd.DataFrame(columns=['theme','url','img','lines','author'])\n",
    "for row in rows:\n",
    "    item = {}\n",
    "    item['title'] = row.find('div', attrs = {'class':'b-trending-card__title'}).text\n",
    "    item['price'] = row.find('div', attrs = {'class':'b-trending-card__price'}).text\n",
    "    item['imageCount'] = row.find('div', attrs = {'class':'b-trending-card__counter'}).text\n",
    "    item['imageUrl'] = row.a['href']\n",
    "    \n",
    "    df = df.append(item, ignore_index=True)\n",
    "    items.append(item)\n",
    "    print(item) \n",
    "df.to_csv('jiji_trending_add_items.csv')"
   ]
  },
  {
   "cell_type": "code",
   "execution_count": null,
   "id": "082383f4",
   "metadata": {},
   "outputs": [],
   "source": []
  }
 ],
 "metadata": {
  "kernelspec": {
   "display_name": "Python 3",
   "language": "python",
   "name": "python3"
  },
  "language_info": {
   "codemirror_mode": {
    "name": "ipython",
    "version": 3
   },
   "file_extension": ".py",
   "mimetype": "text/x-python",
   "name": "python",
   "nbconvert_exporter": "python",
   "pygments_lexer": "ipython3",
   "version": "3.9.5"
  }
 },
 "nbformat": 4,
 "nbformat_minor": 5
}
