{
 "cells": [
  {
   "cell_type": "code",
   "execution_count": 1,
   "id": "7a4d7a99",
   "metadata": {},
   "outputs": [
    {
     "name": "stdout",
     "output_type": "stream",
     "text": [
      "Requirement already satisfied: beautifulsoup4 in c:\\python3.9.5\\lib\\site-packages (4.12.2)\n",
      "Requirement already satisfied: lxml in c:\\python3.9.5\\lib\\site-packages (4.9.2)\n",
      "Requirement already satisfied: html5lib in c:\\python3.9.5\\lib\\site-packages (1.1)\n",
      "Requirement already satisfied: soupsieve>1.2 in c:\\python3.9.5\\lib\\site-packages (from beautifulsoup4) (2.4.1)\n",
      "Requirement already satisfied: six>=1.9 in c:\\python3.9.5\\lib\\site-packages (from html5lib) (1.15.0)\n",
      "Requirement already satisfied: webencodings in c:\\python3.9.5\\lib\\site-packages (from html5lib) (0.5.1)\n",
      "Note: you may need to restart the kernel to use updated packages.\n"
     ]
    },
    {
     "name": "stderr",
     "output_type": "stream",
     "text": [
      "WARNING: You are using pip version 22.0.3; however, version 23.1.2 is available.\n",
      "You should consider upgrading via the 'c:\\python3.9.5\\python.exe -m pip install --upgrade pip' command.\n"
     ]
    }
   ],
   "source": [
    "pip install beautifulsoup4 lxml html5lib"
   ]
  },
  {
   "cell_type": "code",
   "execution_count": null,
   "id": "4e1b3150",
   "metadata": {},
   "outputs": [],
   "source": []
  }
 ],
 "metadata": {
  "kernelspec": {
   "display_name": "Python 3",
   "language": "python",
   "name": "python3"
  },
  "language_info": {
   "codemirror_mode": {
    "name": "ipython",
    "version": 3
   },
   "file_extension": ".py",
   "mimetype": "text/x-python",
   "name": "python",
   "nbconvert_exporter": "python",
   "pygments_lexer": "ipython3",
   "version": "3.9.5"
  }
 },
 "nbformat": 4,
 "nbformat_minor": 5
}
