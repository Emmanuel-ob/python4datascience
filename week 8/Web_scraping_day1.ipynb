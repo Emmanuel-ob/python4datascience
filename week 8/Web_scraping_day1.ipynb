{
 "cells": [
  {
   "cell_type": "code",
   "execution_count": 2,
   "id": "47aeb2c3",
   "metadata": {},
   "outputs": [
    {
     "name": "stdout",
     "output_type": "stream",
     "text": [
      "Note: you may need to restart the kernel to use updated packages.\n"
     ]
    },
    {
     "name": "stderr",
     "output_type": "stream",
     "text": [
      "WARNING: You are using pip version 22.0.3; however, version 23.1.2 is available.\n",
      "You should consider upgrading via the 'c:\\python3.9.5\\python.exe -m pip install --upgrade pip' command.\n"
     ]
    },
    {
     "name": "stdout",
     "output_type": "stream",
     "text": [
      "Requirement already satisfied: beautifulsoup4 in c:\\python3.9.5\\lib\\site-packages (4.12.2)\n",
      "Requirement already satisfied: lxml in c:\\python3.9.5\\lib\\site-packages (4.9.2)\n",
      "Requirement already satisfied: html5lib in c:\\python3.9.5\\lib\\site-packages (1.1)\n",
      "Requirement already satisfied: soupsieve>1.2 in c:\\python3.9.5\\lib\\site-packages (from beautifulsoup4) (2.4.1)\n",
      "Requirement already satisfied: six>=1.9 in c:\\python3.9.5\\lib\\site-packages (from html5lib) (1.15.0)\n",
      "Requirement already satisfied: webencodings in c:\\python3.9.5\\lib\\site-packages (from html5lib) (0.5.1)\n"
     ]
    }
   ],
   "source": [
    "pip install beautifulsoup4 lxml html5lib"
   ]
  },
  {
   "cell_type": "code",
   "execution_count": 6,
   "id": "2c2f9775",
   "metadata": {},
   "outputs": [
    {
     "name": "stdout",
     "output_type": "stream",
     "text": [
      "{'title': 'Toyota Camry 2010 Red', 'price': '₦ 1,500,000', 'imageCount': '7', 'link': 'https://jiji.ng/kubwa/cars/toyota-camry-2010-red-jTBB5jG5Zfnl2wBqYANiIxkE.html'}\n",
      "{'title': 'Lexus RX 350 2018 Blue', 'price': '₦ 20,500,000', 'imageCount': '7', 'link': 'https://jiji.ng/ajah/cars/lexus-rx-350-2018-blue-fE7Gtuby6ssgltcJRdsYhbRg.html'}\n",
      "{'title': 'Lexus GX 460 Luxury 2016 Black', 'price': '₦ 27,000,000', 'imageCount': '16', 'link': 'https://jiji.ng/ojodu/cars/lexus-gx-460-luxury-2016-black-7RYAWmKDjnelBA19tCtfIDcu.html'}\n",
      "{'title': 'Acura ZDX Base AWD 2011 Black', 'price': '₦ 4,500,000', 'imageCount': '11', 'link': 'https://jiji.ng/lugbe/cars/acura-zdx-base-awd-2011-black-8Z0A8yV6ks3lIjZKw9cENHtV.html'}\n",
      "{'title': 'Mercedes-Benz GLA 250 2019 Gray', 'price': '₦ 18,700,000', 'imageCount': '11', 'link': 'https://jiji.ng/magodo/cars/mercedes-benz-gla-250-2019-gray-Clut5ZOdbCOnM46hG8Plo0t8.html'}\n",
      "{'title': 'Toyota Camry 2010', 'price': '₦ 1,800,000', 'imageCount': '9', 'link': 'https://jiji.ng/oredo/cars/toyota-camry-2010-fy8z3jvXxwSxLdFeKaxSdvwL.html'}\n",
      "{'title': 'Lexus ES 330 2006 Silver', 'price': '₦ 2,599,999', 'imageCount': '11', 'link': 'https://jiji.ng/lagos-abule-egba/cars/lexus-es-330-2006-silver-rq6Ld4Lqf78BWOd3ldIweVzi.html'}\n",
      "{'title': 'Toyota RAV4 2001 Black', 'price': '₦ 1,600,000', 'imageCount': '15', 'link': 'https://jiji.ng/oluyole/cars/toyota-rav4-2001-black-mkgVzxtVoKFS1OO36ESE7VIx.html'}\n",
      "{'title': 'Land Rover Range Rover Evoque 2014 Red', 'price': '₦ 5,000,000', 'imageCount': '5', 'link': 'https://jiji.ng/lekki/cars/land-rover-range-rover-evoque-2014-red-oTrkX4jZiMK48oOFSPVUjCli.html'}\n",
      "{'title': 'Lexus GX 470 Sport Utility 2006 Black', 'price': '₦ 9,800,000', 'imageCount': '11', 'link': 'https://jiji.ng/ojodu/cars/lexus-gx-470-sport-utility-2006-black-OuSeiHfOZdQTejl0RUetcOt.html'}\n",
      "{'title': 'Nissan Almera 2010 Gray', 'price': '₦ 1,280,000', 'imageCount': '8', 'link': 'https://jiji.ng/lagos-abule-egba/cars/nissan-almera-2010-gray-mPFmAi3KsWRd4AYPiFNTBI4m.html'}\n",
      "{'title': 'Mitsubishi Pajero 3.2 Di-Dc GLS 2012 Black', 'price': '₦ 3,500,000', 'imageCount': '12', 'link': 'https://jiji.ng/surulere/cars/mitsubishi-pajero-3-2-di-dc-gls-2012-black-bcTMnu74658Yx9ow8e5QVpDy.html'}\n",
      "{'title': 'Honda Accord 2009 Gray', 'price': '₦ 2,000,000', 'imageCount': '8', 'link': 'https://jiji.ng/gbagada/cars/honda-accord-2009-gray-wvpsUHPgDwYHYT5y5zO1MjvS.html'}\n",
      "{'title': 'Acura MDX 2008 Black', 'price': '₦ 2,100,000', 'imageCount': '11', 'link': 'https://jiji.ng/port-harcourt/cars/acura-mdx-2008-black-uuBAVnnqWhxCOah5oF9oPRvO.html'}\n",
      "{'title': 'Lexus RX 350 2011 White', 'price': '₦ 7,700,000', 'imageCount': '13', 'link': 'https://jiji.ng/ogba/cars/lexus-rx-350-2011-white-m8Bjh8TRgcC2asoaDqvS5c0T.html'}\n",
      "{'title': 'Hyundai I10 2008 Gold', 'price': '₦ 1,400,000', 'imageCount': '8', 'link': 'https://jiji.ng/jahi/cars/hyundai-i10-2008-gold-CawydSpcjCUuuzdrzQhxYZNC.html'}\n",
      "{'title': 'Toyota Corolla 2004 Silver', 'price': '₦ 1,850,000', 'imageCount': '6', 'link': 'https://jiji.ng/lagos-abule-egba/cars/toyota-corolla-2004-silver-rBCBN7wFJb3trzmTkxlk5gBo.html'}\n",
      "{'title': 'Mercedes-Benz M Class 2015 Black', 'price': '₦ 10,950,000', 'imageCount': '5', 'link': 'https://jiji.ng/ikeja/cars/mercedes-benz-m-class-2015-black-6gh9uhzgDcFhOC0qCgMKp2X7.html'}\n",
      "{'title': 'Chevrolet Aveo 2007 Red', 'price': '₦ 1,000,000', 'imageCount': '19', 'link': 'https://jiji.ng/isolo/cars/chevrolet-aveo-2007-red-5J5ylo1SXlQgWzGnKAGuf3RC.html'}\n",
      "{'title': 'Ford Edge 2017 Silver', 'price': '₦ 7,000,000', 'imageCount': '5', 'link': 'https://jiji.ng/gwarinpa/cars/ford-edge-2017-silver-wHGLOmOXcx4NtKzMcLtuJThj.html'}\n",
      "{'title': 'Mercedes-Benz C300 2016 Black', 'price': '₦ 16,500,000', 'imageCount': '9', 'link': 'https://jiji.ng/asokoro/cars/mercedes-benz-c300-2016-black-8xOMTptwWctMfsvZOcsHiI1E.html'}\n",
      "{'title': 'Honda Pilot EX 4x4 (3.5L 6cyl 5A) 2008 Black', 'price': '₦ 1,850,000', 'imageCount': '11', 'link': 'https://jiji.ng/ikeja/cars/honda-pilot-ex-4x4-3-5l-6cyl-5a-2008-black-kZwoLZlTxhdLnGxtzd5ukskE.html'}\n",
      "{'title': 'Apple iPhone 11 Pro Max 256 GB Gray', 'price': '₦ 70,000', 'imageCount': '7', 'link': 'https://jiji.ng/ifo/mobile-phones/apple-iphone-11-pro-max-256-gb-gray-pUpCAKnmcrE6XAoADEB4wKGP.html'}\n",
      "{'title': 'Apple iPhone X 64 GB White', 'price': '₦ 90,000', 'imageCount': '4', 'link': 'https://jiji.ng/port-harcourt/mobile-phones/apple-iphone-x-64-gb-white-kki1Dtek2LDKRYCs8RJjm0I3.html'}\n",
      "{'title': 'Samsung Galaxy Fold 512 GB Gray', 'price': '₦ 250,000', 'imageCount': '8', 'link': 'https://jiji.ng/ikeja/mobile-phones/samsung-galaxy-fold-512-gb-gray-zqCem5REcvJwfQ54td8ZEtwf.html'}\n",
      "{'title': 'Apple iPhone XS Max 256 GB White', 'price': '₦ 200,000', 'imageCount': '5', 'link': 'https://jiji.ng/mushin/mobile-phones/apple-iphone-xs-max-256-gb-white-wYaiRch40tF71EysDxl5jmZb.html'}\n",
      "{'title': 'Apple iPhone X 64 GB White', 'price': '₦ 109,000', 'imageCount': '4', 'link': 'https://jiji.ng/ikorodu/mobile-phones/apple-iphone-x-64-gb-white-6i0rtQtBq4cBGn9F8jTJFOEw.html'}\n",
      "{'title': 'Apple iPhone 6 64 GB Silver', 'price': '₦ 25,000', 'imageCount': '4', 'link': 'https://jiji.ng/alimosho/mobile-phones/apple-iphone-6-64-gb-silver-mGorhAMNewjFE9oEl3AhTl8T.html'}\n",
      "{'title': 'Huawei P30 Lite 256 GB Blue', 'price': '₦ 100,000', 'imageCount': '2', 'link': 'https://jiji.ng/ibadan/mobile-phones/huawei-p30-lite-256-gb-blue-aMJG0txwrhNWuj7V4dJGLRBW.html'}\n",
      "{'title': 'Huawei P30 Lite 128 GB Blue', 'price': '₦ 80,000', 'imageCount': '2', 'link': 'https://jiji.ng/ikeja/mobile-phones/huawei-p30-lite-128-gb-blue-rngKoeumkGWWOGyPyk2T5KJG.html'}\n",
      "{'title': 'Samsung Galaxy S10 Plus 128 GB Blue', 'price': '₦ 140,000', 'imageCount': '5', 'link': 'https://jiji.ng/lagos-abule-egba/mobile-phones/samsung-galaxy-s10-plus-128-gb-blue-dzGKVAASFFOYMMGg6zfdPPE9.html'}\n",
      "{'title': 'Samsung Galaxy S20 Ultra 5G 128 GB Black', 'price': '₦ 185,000', 'imageCount': '3', 'link': 'https://jiji.ng/ajah/mobile-phones/samsung-galaxy-s20-ultra-5g-128-gb-black-v5RmtVL2OEsYVOtnIMRBeht8.html'}\n",
      "{'title': 'Apple iPhone XR 64 GB Black', 'price': '₦ 145,000', 'imageCount': '2', 'link': 'https://jiji.ng/lagos-abule-egba/mobile-phones/apple-iphone-xr-64-gb-black-CikQ48foKKDFVyPQ26llN1d6.html'}\n",
      "{'title': 'Apple iPhone XR 64 GB White', 'price': '₦ 170,000', 'imageCount': '3', 'link': 'https://jiji.ng/owerri-municipal/mobile-phones/apple-iphone-xr-64-gb-white-6uKKu7QKrbSYyOP9NlmEFj0z.html'}\n",
      "{'title': 'Apple iPhone XS Max 64 GB Black', 'price': '₦ 125,000', 'imageCount': '5', 'link': 'https://jiji.ng/ikeja/mobile-phones/apple-iphone-xs-max-64-gb-black-r9OuAtuwZf0SgUub5etXmIyJ.html'}\n",
      "{'title': 'Apple iPhone XR 64 GB Black', 'price': '₦ 145,000', 'imageCount': '4', 'link': 'https://jiji.ng/ikorodu/mobile-phones/apple-iphone-xr-64-gb-black-3870pVmUbxXdhZx5vHEL7EpQ.html'}\n",
      "{'title': 'Apple iPhone 11 64 GB Red', 'price': '₦ 120,000', 'imageCount': '1', 'link': 'https://jiji.ng/abeokuta-south/mobile-phones/apple-iphone-11-64-gb-red-k7GsuizvtgC7u3Atl8DxkZ4v.html'}\n",
      "{'title': 'Apple iPhone X 64 GB Black', 'price': '₦ 140,000', 'imageCount': '5', 'link': 'https://jiji.ng/port-harcourt/mobile-phones/apple-iphone-x-64-gb-black-aKuFXmV9nOhcaGN9AzSp7aJL.html'}\n",
      "{'title': 'Apple iPhone X 64 GB White', 'price': '₦ 130,000', 'imageCount': '3', 'link': 'https://jiji.ng/ibadan/mobile-phones/apple-iphone-x-64-gb-white-fSk2xVYCs9UiWWGLi3F4tZk5.html'}\n",
      "{'title': 'Infinix Note 11 128 GB Gray', 'price': '₦ 93,000', 'imageCount': '3', 'link': 'https://jiji.ng/onitsha-north/mobile-phones/infinix-note-11-128-gb-gray-imJkwobXtZAjbIhfbiDRLRA3.html'}\n",
      "{'title': 'Copy Apple iPhone XS Max 256 GB Gold', 'price': '₦ 70,000', 'imageCount': '5', 'link': 'https://jiji.ng/ikeja/mobile-phones/copy-apple-iphone-xs-max-256-gb-gold-eZHP2Lu6tM8Ep8kJbUCi5q2X.html'}\n",
      "{'title': 'Oppo A93 128 GB Black', 'price': '₦ 110,000', 'imageCount': '3', 'link': 'https://jiji.ng/obio-akpor/mobile-phones/oppo-a93-128-gb-black-nfsmTn071jEwujUYmXYCtZ9W.html'}\n",
      "{'title': 'Apple iPhone X 64 GB Black', 'price': '₦ 105,000', 'imageCount': '2', 'link': 'https://jiji.ng/osogbo/mobile-phones/apple-iphone-x-64-gb-black-rpqLt8CqrnMAwlln0aK5OTpx.html'}\n",
      "{'title': 'Samsung Galaxy A51 128 GB Blue', 'price': '₦ 55,000', 'imageCount': '3', 'link': 'https://jiji.ng/alimosho/mobile-phones/samsung-galaxy-a51-128-gb-blue-5SnzHy17bFcQcmCPYYzn9xZM.html'}\n",
      "{'title': '1bdrm Apartment in Dalag Way, Soka for rent', 'price': '₦ 150,000 per annum', 'imageCount': '6', 'link': 'https://jiji.ng/ibadan-soka/houses-apartments-for-rent/1bdrm-apartment-in-dalag-way-soka-for-rent-cQnPHgwt0LPbNNKrutvmalNE.html'}\n",
      "{'title': '2bdrm Block of Flats in Abiola Estate, Ayobo for rent', 'price': '₦ 600,000 per annum', 'imageCount': '5', 'link': 'https://jiji.ng/ayobo/houses-apartments-for-rent/2bdrm-block-of-flats-in-abiola-estate-ayobo-for-rent-6mqYKIZ41rBiiM2P6roQ0XcU.html'}\n",
      "{'title': '3bdrm Block of Flats in Uyo for rent', 'price': '₦ 450,000 per annum', 'imageCount': '6', 'link': 'https://jiji.ng/uyo/houses-apartments-for-rent/3bdrm-block-of-flats-in-uyo-for-rent-sIlPpSegowV6xz3Mp8E1ivE9.html'}\n",
      "{'title': 'Furnished 1bdrm Apartment in Federal Estate, Igbogbo for rent', 'price': '₦ 100,000 per annum', 'imageCount': '6', 'link': 'https://jiji.ng/igbogbo/houses-apartments-for-rent/furnished-1bdrm-apartment-in-federal-estate-igbogbo-for-rent-wXh8Ix5oOuljlL8LQeO6qdup.html'}\n",
      "{'title': 'Mini Flat Semi-Furnished in Uyo for rent', 'price': '₦ 400,000 per annum', 'imageCount': '6', 'link': 'https://jiji.ng/uyo/houses-apartments-for-rent/mini-flat-semi-furnished-in-uyo-for-rent-jNECwiaOmWcW1BfH0mGAIKvr.html'}\n",
      "{'title': 'Furnished Studio Apartment in Lokogoma for rent', 'price': '₦ 350,000 per annum', 'imageCount': '7', 'link': 'https://jiji.ng/lokogoma/houses-apartments-for-rent/furnished-studio-apartment-in-lokogoma-for-rent-cYUVipg7cSDVUTrVBRkltH69.html'}\n",
      "{'title': '1bdrm Room & Parlour in Ogumenyi, Benin City for rent', 'price': '₦ 300,000 per annum', 'imageCount': '5', 'link': 'https://jiji.ng/oredo/houses-apartments-for-rent/1bdrm-room-parlour-in-ogumenyi-benin-city-for-rent-yKSlwErNmoI1SvIqnhnP6LMA.html'}\n",
      "{'title': 'Furnished 2bdrm Apartment in Ikola, Ipaja for rent', 'price': '₦ 750,000 per annum', 'imageCount': '13', 'link': 'https://jiji.ng/ayobo-ipaja/houses-apartments-for-rent/furnished-2bdrm-apartment-in-ikola-ipaja-for-rent-7ugf1dE0a0gKQzwr8f717hqb.html'}\n",
      "{'title': '2bdrm Apartment in Bankole, Obafemi-Owode for rent', 'price': '₦ 550,000 per annum', 'imageCount': '20', 'link': 'https://jiji.ng/obafemi-owode/houses-apartments-for-rent/2bdrm-apartment-in-bankole-obafemi-owode-for-rent-6vdOGAOO5TWO5HxPLDhfw58t.html'}\n",
      "{'title': '2bdrm Bungalow in Ayobo for rent', 'price': '₦ 350,000 per annum', 'imageCount': '5', 'link': 'https://jiji.ng/ayobo/houses-apartments-for-rent/2bdrm-bungalow-in-ayobo-for-rent-l278ZtPhuLqphN56KGuOuC7F.html'}\n",
      "{'title': '2bdrm Bungalow in Ibadan for rent', 'price': '₦ 350,000 per annum', 'imageCount': '12', 'link': 'https://jiji.ng/ibadan/houses-apartments-for-rent/2bdrm-bungalow-in-ibadan-for-rent-6j9IboK9BZnzGyHogJ7wsDCC.html'}\n",
      "{'title': 'Studio Apartment in Dawaki for rent', 'price': '₦ 400,000 per annum', 'imageCount': '6', 'link': 'https://jiji.ng/dawaki/houses-apartments-for-rent/studio-apartment-in-dawaki-for-rent-51U9zo5T90exPxwWfWtCZi6q.html'}\n",
      "{'title': '1bdrm Bungalow in Aroromi Ibeju for rent', 'price': '₦ 300,000 per annum', 'imageCount': '17', 'link': 'https://jiji.ng/ibeju-agbe/houses-apartments-for-rent/1bdrm-bungalow-in-aroromi-ibeju-for-rent-pBJvd1aFjki1opXtMZKP994c.html'}\n",
      "{'title': 'Furnished 2bdrm Bungalow in Mbaraja, Port-Harcourt for rent', 'price': '₦ 750,000 per annum', 'imageCount': '5', 'link': 'https://jiji.ng/port-harcourt/houses-apartments-for-rent/furnished-2bdrm-bungalow-in-mbaraja-port-harcourt-for-rent-xcwEoOFuNEtQZNXteG6K5vfK.html'}\n",
      "{'title': '1bdrm Apartment in Guduwi, Dakwo District for rent', 'price': '₦ 400,000 per annum', 'imageCount': '5', 'link': 'https://jiji.ng/dakwo/houses-apartments-for-rent/1bdrm-apartment-in-guduwi-dakwo-district-for-rent-5EQDY4rcR2AQ7RRopcpwSftC.html'}\n",
      "{'title': 'Furnished 3bdrm Apartment in Ikola, Ipaja for rent', 'price': '₦ 800,000 per annum', 'imageCount': '11', 'link': 'https://jiji.ng/ayobo-ipaja/houses-apartments-for-rent/furnished-3bdrm-apartment-in-ikola-ipaja-for-rent-oWE9uJaV5BiZ6QTANEStJ1dX.html'}\n"
     ]
    }
   ],
   "source": [
    "from bs4 import BeautifulSoup as bs\n",
    "import pandas  as pd\n",
    "import requests \n",
    "\n",
    "url = 'https://jiji.ng/'\n",
    "page = requests.get(url)\n",
    "soup = bs(page.content, 'html5lib')\n",
    "#print(soup.prettify())\n",
    "table = soup.find('div', attrs= {'class': 'h-dflex h-flex-wrap h-mh--7 h-mb--15'})\n",
    "#print(table)\n",
    "rows = table.findAll('div', attrs={'class': 'b-listing-cards__item'})\n",
    "items = []\n",
    "df = pd.DataFrame(columns=['title', 'price', 'imageCount', 'link'])\n",
    "for row in rows:\n",
    "    item = {}\n",
    "    item['title'] = row.find('div', attrs={'class': 'b-trending-card__title'}).text.replace(\"\\n        \", \"\").replace(\"\\n      \",\"\")\n",
    "    item['price'] = row.find('div', attrs={'class': 'b-trending-card__price'}).text.replace(\"\\n        \", \"\").replace(\"\\n      \",\"\")\n",
    "    item['imageCount'] = row.find('div', attrs={'class': 'b-trending-card__counter'}).text.replace(\"\\n        \", \"\").replace(\"\\n      \",\"\")\n",
    "    item['link'] = row.a['href']\n",
    "    \n",
    "    df = df.append(item, ignore_index=True)\n",
    "    #print(item)\n",
    "df.to_csv('jiji_trending_adds.csv')\n",
    "    \n"
   ]
  },
  {
   "cell_type": "code",
   "execution_count": null,
   "id": "f39f6894",
   "metadata": {},
   "outputs": [],
   "source": []
  }
 ],
 "metadata": {
  "kernelspec": {
   "display_name": "Python 3",
   "language": "python",
   "name": "python3"
  },
  "language_info": {
   "codemirror_mode": {
    "name": "ipython",
    "version": 3
   },
   "file_extension": ".py",
   "mimetype": "text/x-python",
   "name": "python",
   "nbconvert_exporter": "python",
   "pygments_lexer": "ipython3",
   "version": "3.9.5"
  }
 },
 "nbformat": 4,
 "nbformat_minor": 5
}
