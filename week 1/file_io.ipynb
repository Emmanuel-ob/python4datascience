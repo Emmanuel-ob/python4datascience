{
 "cells": [
  {
   "cell_type": "code",
   "execution_count": 15,
   "id": "0340103e",
   "metadata": {},
   "outputs": [
    {
     "name": "stdout",
     "output_type": "stream",
     "text": [
      "- Additional text added\n",
      "This is the second line\n",
      "This is the Third line\n",
      "My name is Emmanuel\n",
      "This is the first line\n",
      "This is the second line- Additional text added- Additional text added- Additional text added\n",
      "- Additional text added\n"
     ]
    }
   ],
   "source": [
    "file_obj = open(\"C:/Users/LENOV/Documents/Pyhon for Data Science/week 1/python_file.txt\", 'r')\n",
    "my_text = file_obj.read()\n",
    "file_obj.close()\n",
    "print(my_text)"
   ]
  },
  {
   "cell_type": "code",
   "execution_count": 14,
   "id": "23161372",
   "metadata": {},
   "outputs": [],
   "source": [
    "file_obj = open(\"C:/Users/LENOV/Documents/Pyhon for Data Science/week 1/python_file.txt\", 'a+')\n",
    "file_obj.write(\"\\n- Additional text added\")\n",
    "file_obj.close()"
   ]
  },
  {
   "cell_type": "code",
   "execution_count": 23,
   "id": "476196c0",
   "metadata": {},
   "outputs": [
    {
     "name": "stdout",
     "output_type": "stream",
     "text": [
      "False\n"
     ]
    }
   ],
   "source": [
    "import os\n",
    "file_check = os.path.exists(\"C:/Users/LENOV/Documents/Pyhon for Data Science/week 2/python_file.txt\")\n",
    "print(file_check)"
   ]
  },
  {
   "cell_type": "code",
   "execution_count": 25,
   "id": "772480c8",
   "metadata": {},
   "outputs": [
    {
     "name": "stdout",
     "output_type": "stream",
     "text": [
      "True\n"
     ]
    }
   ],
   "source": [
    "file_check1 = os.path.isfile(\"C:/Users/LENOV/Documents/Pyhon for Data Science/week 1/python_file.txt\")\n",
    "print(file_check1)"
   ]
  },
  {
   "cell_type": "code",
   "execution_count": null,
   "id": "c6827d5d",
   "metadata": {},
   "outputs": [],
   "source": []
  }
 ],
 "metadata": {
  "kernelspec": {
   "display_name": "Python 3",
   "language": "python",
   "name": "python3"
  },
  "language_info": {
   "codemirror_mode": {
    "name": "ipython",
    "version": 3
   },
   "file_extension": ".py",
   "mimetype": "text/x-python",
   "name": "python",
   "nbconvert_exporter": "python",
   "pygments_lexer": "ipython3",
   "version": "3.9.5"
  }
 },
 "nbformat": 4,
 "nbformat_minor": 5
}
